{
    "metadata": {
        "language_info": {
            "name": "python", 
            "mimetype": "text/x-python", 
            "nbconvert_exporter": "python", 
            "pygments_lexer": "ipython3", 
            "codemirror_mode": {
                "name": "ipython", 
                "version": 3
            }, 
            "file_extension": ".py", 
            "version": "3.5.2"
        }, 
        "kernelspec": {
            "display_name": "Python 3.5 (Experimental) with Spark 2.1", 
            "name": "python3-spark21", 
            "language": "python"
        }
    }, 
    "nbformat": 4, 
    "cells": [
        {
            "metadata": {}, 
            "source": "# Modern Data Science \n**(Module 02: Data Visualization)**\n\n---\n- Materials in this module include resources collected from various open-source online repositories.\n- You are free to use, change and distribute this package.\n\nPrepared by and for \n**Student Members** |\n2006-2018 [TULIP Lab](http://www.tulip.org.au), Australia\n\n---\n\n# Session Q - GraphViz\n\nGraphviz is open source graph visualization software. It has several main graph layout programs. The Graphviz layout tools take descriptions of graphs in a simple text language, and make diagrams in several useful formats such as images and SVG for web pages, Postscript for inclusion in PDF or other documents; or display in an interactive graph browser. \n\nGraphviz layout tools accept inputs in the `DOT` language, which describes :\n* graphs\n* nodes\n* edges\n\nWe can use `DOT` language to describe the graph structure, and specify the shape, color etc. \n\n[Adapted from here](http://graphviz.readthedocs.io/en/stable/index.html)\n\n\n`graphviz` provides a simple pure-Python interface for the Graphviz graph-drawing software. To install it with pip run the following:\n", 
            "cell_type": "markdown"
        }, 
        {
            "source": "!pip install graphviz", 
            "metadata": {}, 
            "execution_count": 1, 
            "cell_type": "code", 
            "outputs": [
                {
                    "name": "stdout", 
                    "output_type": "stream", 
                    "text": "Requirement already satisfied (use --upgrade to upgrade): graphviz in /gpfs/global_fs01/sym_shared/YPProdSpark/user/s3e5-499bea512906f7-22bdb6436e8b/.local/lib/python3.5/site-packages\r\n"
                }
            ]
        }, 
        {
            "metadata": {}, 
            "source": "The `graphviz` module provides two classes: `Graph` and `Digraph`. They create graph descriptions in the [DOT](https://www.graphviz.org/doc/info/lang.html) language for undirected and directed graphs respectively. They have the same [API](http://graphviz.readthedocs.io/en/stable/api.html#api).\n\n", 
            "cell_type": "markdown"
        }, 
        {
            "metadata": {}, 
            "source": "## Basic Components", 
            "cell_type": "markdown"
        }, 
        {
            "metadata": {}, 
            "source": "Create a graph by instantiating a new `Graph` or `Digraph` object:\n\n", 
            "cell_type": "markdown"
        }, 
        {
            "source": "from graphviz import Digraph\n\ndot = Digraph(comment='The Round Table')", 
            "metadata": {}, 
            "execution_count": 2, 
            "cell_type": "code", 
            "outputs": []
        }, 
        {
            "metadata": {}, 
            "source": "Their constructors allow to set the graph\u2019s `name`, the `filename` for the DOT source and the rendered graph, a `comment` for the first source code line, etc.\n\nAdd nodes and edges to the graph object using its `node()` and `edge()` or `edges()` methods:\n\nThe `node()` method takes a name identifier as first argument and an optional label. The `edge()` method takes the names of start- and end-node, while `edges()` takes iterable of name-pairs. Keyword arguments are turned into (node and edge) attributes (see [Graphviz docs](https://www.graphviz.org/doc/info/attrs.html)).\n\n", 
            "cell_type": "markdown"
        }, 
        {
            "source": "dot.node('A', 'King Arthur')\ndot.node('B', 'Sir Bedevere the Wise')\ndot.node('L', 'Sir Lancelot the Brave')\n\ndot.edges(['AB', 'AL'])\ndot.edge('B', 'L', constraint='false')", 
            "metadata": {}, 
            "execution_count": 3, 
            "cell_type": "code", 
            "outputs": []
        }, 
        {
            "source": "print(dot.source) ", 
            "metadata": {}, 
            "execution_count": 4, 
            "cell_type": "code", 
            "outputs": [
                {
                    "name": "stdout", 
                    "output_type": "stream", 
                    "text": "// The Round Table\ndigraph {\n\tA [label=\"King Arthur\"]\n\tB [label=\"Sir Bedevere the Wise\"]\n\tL [label=\"Sir Lancelot the Brave\"]\n\tA -> B\n\tA -> L\n\tB -> L [constraint=false]\n}\n"
                }
            ]
        }, 
        {
            "metadata": {}, 
            "source": "We can show the rendered graph using:", 
            "cell_type": "markdown"
        }, 
        {
            "source": "dot", 
            "metadata": {}, 
            "execution_count": 5, 
            "cell_type": "code", 
            "outputs": [
                {
                    "data": {
                        "text/plain": "<graphviz.dot.Digraph at 0x7f176052ecc0>", 
                        "image/svg+xml": "<?xml version=\"1.0\" encoding=\"UTF-8\" standalone=\"no\"?>\n<!DOCTYPE svg PUBLIC \"-//W3C//DTD SVG 1.1//EN\"\n \"http://www.w3.org/Graphics/SVG/1.1/DTD/svg11.dtd\">\n<!-- Generated by graphviz version 2.30.1 (20150306.0020)\n -->\n<!-- Title: %3 Pages: 1 -->\n<svg width=\"388pt\" height=\"116pt\"\n viewBox=\"0.00 0.00 388.00 116.00\" xmlns=\"http://www.w3.org/2000/svg\" xmlns:xlink=\"http://www.w3.org/1999/xlink\">\n<g id=\"graph0\" class=\"graph\" transform=\"scale(1 1) rotate(0) translate(4 112)\">\n<title>%3</title>\n<polygon fill=\"white\" stroke=\"white\" points=\"-4,5 -4,-112 385,-112 385,5 -4,5\"/>\n<!-- A -->\n<g id=\"node1\" class=\"node\"><title>A</title>\n<ellipse fill=\"none\" stroke=\"black\" cx=\"190\" cy=\"-90\" rx=\"53.4184\" ry=\"18\"/>\n<text text-anchor=\"middle\" x=\"190\" y=\"-86.3\" font-family=\"Times,serif\" font-size=\"14.00\">King Arthur</text>\n</g>\n<!-- B -->\n<g id=\"node2\" class=\"node\"><title>B</title>\n<ellipse fill=\"none\" stroke=\"black\" cx=\"90\" cy=\"-18\" rx=\"90.4879\" ry=\"18\"/>\n<text text-anchor=\"middle\" x=\"90\" y=\"-14.3\" font-family=\"Times,serif\" font-size=\"14.00\">Sir Bedevere the Wise</text>\n</g>\n<!-- A&#45;&gt;B -->\n<g id=\"edge1\" class=\"edge\"><title>A&#45;&gt;B</title>\n<path fill=\"none\" stroke=\"black\" d=\"M167.807,-73.4647C154.339,-64.0371 136.924,-51.8466 121.985,-41.3897\"/>\n<polygon fill=\"black\" stroke=\"black\" points=\"123.724,-38.3345 113.525,-35.4672 119.71,-44.0692 123.724,-38.3345\"/>\n</g>\n<!-- L -->\n<g id=\"node3\" class=\"node\"><title>L</title>\n<ellipse fill=\"none\" stroke=\"black\" cx=\"290\" cy=\"-18\" rx=\"90.4879\" ry=\"18\"/>\n<text text-anchor=\"middle\" x=\"290\" y=\"-14.3\" font-family=\"Times,serif\" font-size=\"14.00\">Sir Lancelot the Brave</text>\n</g>\n<!-- A&#45;&gt;L -->\n<g id=\"edge2\" class=\"edge\"><title>A&#45;&gt;L</title>\n<path fill=\"none\" stroke=\"black\" d=\"M212.193,-73.4647C225.661,-64.0371 243.076,-51.8466 258.015,-41.3897\"/>\n<polygon fill=\"black\" stroke=\"black\" points=\"260.29,-44.0692 266.475,-35.4672 256.276,-38.3345 260.29,-44.0692\"/>\n</g>\n<!-- B&#45;&gt;L -->\n<g id=\"edge3\" class=\"edge\"><title>B&#45;&gt;L</title>\n<path fill=\"none\" stroke=\"black\" d=\"M180.625,-18C183.464,-18 186.304,-18 189.143,-18\"/>\n<polygon fill=\"black\" stroke=\"black\" points=\"189.424,-21.5001 199.424,-18 189.424,-14.5001 189.424,-21.5001\"/>\n</g>\n</g>\n</svg>\n"
                    }, 
                    "metadata": {}, 
                    "execution_count": 5, 
                    "output_type": "execute_result"
                }
            ]
        }, 
        {
            "metadata": {}, 
            "source": "## Styling\n\n\nUse the `graph_attr`, `node_attr`, and `edge_attr` arguments to change the default appearance of your graph, nodes, and edges.", 
            "cell_type": "markdown"
        }, 
        {
            "source": "ps = Digraph(name='pet-shop', node_attr={'shape': 'plaintext'})\n\nps.node('parrot')\nps.node('dead')\nps.edge('parrot', 'dead')", 
            "metadata": {}, 
            "execution_count": 6, 
            "cell_type": "code", 
            "outputs": []
        }, 
        {
            "source": "print(ps.source)", 
            "metadata": {}, 
            "execution_count": 7, 
            "cell_type": "code", 
            "outputs": [
                {
                    "name": "stdout", 
                    "output_type": "stream", 
                    "text": "digraph \"pet-shop\" {\n\tnode [shape=plaintext]\n\tparrot\n\tdead\n\tparrot -> dead\n}\n"
                }
            ]
        }, 
        {
            "source": "ps", 
            "metadata": {}, 
            "execution_count": 8, 
            "cell_type": "code", 
            "outputs": [
                {
                    "data": {
                        "text/plain": "<graphviz.dot.Digraph at 0x7f17605e8898>", 
                        "image/svg+xml": "<?xml version=\"1.0\" encoding=\"UTF-8\" standalone=\"no\"?>\n<!DOCTYPE svg PUBLIC \"-//W3C//DTD SVG 1.1//EN\"\n \"http://www.w3.org/Graphics/SVG/1.1/DTD/svg11.dtd\">\n<!-- Generated by graphviz version 2.30.1 (20150306.0020)\n -->\n<!-- Title: pet&#45;shop Pages: 1 -->\n<svg width=\"62pt\" height=\"116pt\"\n viewBox=\"0.00 0.00 62.00 116.00\" xmlns=\"http://www.w3.org/2000/svg\" xmlns:xlink=\"http://www.w3.org/1999/xlink\">\n<g id=\"graph0\" class=\"graph\" transform=\"scale(1 1) rotate(0) translate(4 112)\">\n<title>pet&#45;shop</title>\n<polygon fill=\"white\" stroke=\"white\" points=\"-4,5 -4,-112 59,-112 59,5 -4,5\"/>\n<!-- parrot -->\n<g id=\"node1\" class=\"node\"><title>parrot</title>\n<text text-anchor=\"middle\" x=\"27\" y=\"-86.3\" font-family=\"Times,serif\" font-size=\"14.00\">parrot</text>\n</g>\n<!-- dead -->\n<g id=\"node2\" class=\"node\"><title>dead</title>\n<text text-anchor=\"middle\" x=\"27\" y=\"-14.3\" font-family=\"Times,serif\" font-size=\"14.00\">dead</text>\n</g>\n<!-- parrot&#45;&gt;dead -->\n<g id=\"edge1\" class=\"edge\"><title>parrot&#45;&gt;dead</title>\n<path fill=\"none\" stroke=\"black\" d=\"M27,-71.6966C27,-63.9827 27,-54.7125 27,-46.1124\"/>\n<polygon fill=\"black\" stroke=\"black\" points=\"30.5001,-46.1043 27,-36.1043 23.5001,-46.1044 30.5001,-46.1043\"/>\n</g>\n</g>\n</svg>\n"
                    }, 
                    "metadata": {}, 
                    "execution_count": 8, 
                    "output_type": "execute_result"
                }
            ]
        }, 
        {
            "source": "ps.graph_attr['rankdir'] = 'LR'\nps.edge_attr.update(arrowhead='vee', arrowsize='2')", 
            "metadata": {}, 
            "execution_count": 9, 
            "cell_type": "code", 
            "outputs": []
        }, 
        {
            "source": "ps", 
            "metadata": {}, 
            "execution_count": 10, 
            "cell_type": "code", 
            "outputs": [
                {
                    "data": {
                        "text/plain": "<graphviz.dot.Digraph at 0x7f17605e8898>", 
                        "image/svg+xml": "<?xml version=\"1.0\" encoding=\"UTF-8\" standalone=\"no\"?>\n<!DOCTYPE svg PUBLIC \"-//W3C//DTD SVG 1.1//EN\"\n \"http://www.w3.org/Graphics/SVG/1.1/DTD/svg11.dtd\">\n<!-- Generated by graphviz version 2.30.1 (20150306.0020)\n -->\n<!-- Title: pet&#45;shop Pages: 1 -->\n<svg width=\"152pt\" height=\"44pt\"\n viewBox=\"0.00 0.00 152.00 44.00\" xmlns=\"http://www.w3.org/2000/svg\" xmlns:xlink=\"http://www.w3.org/1999/xlink\">\n<g id=\"graph0\" class=\"graph\" transform=\"scale(1 1) rotate(0) translate(4 40)\">\n<title>pet&#45;shop</title>\n<polygon fill=\"white\" stroke=\"white\" points=\"-4,5 -4,-40 149,-40 149,5 -4,5\"/>\n<!-- parrot -->\n<g id=\"node1\" class=\"node\"><title>parrot</title>\n<text text-anchor=\"middle\" x=\"27\" y=\"-14.3\" font-family=\"Times,serif\" font-size=\"14.00\">parrot</text>\n</g>\n<!-- dead -->\n<g id=\"node2\" class=\"node\"><title>dead</title>\n<text text-anchor=\"middle\" x=\"117\" y=\"-14.3\" font-family=\"Times,serif\" font-size=\"14.00\">dead</text>\n</g>\n<!-- parrot&#45;&gt;dead -->\n<g id=\"edge1\" class=\"edge\"><title>parrot&#45;&gt;dead</title>\n<path fill=\"none\" stroke=\"black\" d=\"M54.4029,-18C59.32,-18 64.5882,-18 69.8973,-18\"/>\n<polygon fill=\"black\" stroke=\"black\" points=\"89.919,-18 69.919,-27.0001 79.919,-18 69.919,-18.0001 69.919,-18.0001 69.919,-18.0001 79.919,-18 69.9189,-9.0001 89.919,-18 89.919,-18\"/>\n</g>\n</g>\n</svg>\n"
                    }, 
                    "metadata": {}, 
                    "execution_count": 10, 
                    "output_type": "execute_result"
                }
            ]
        }, 
        {
            "metadata": {}, 
            "source": "## Attributes\n\nTo directly add attitbute statements (affecting all following graph, node, or edge items within the same (sub-)graph), use the `attr()` -method with the target as first argument:", 
            "cell_type": "markdown"
        }, 
        {
            "source": "from graphviz import Graph\n\nni = Graph('ni')\n\nni.attr('node', shape='rarrow')\nni.node('1', 'Ni!')\nni.node('2', 'Ni!')\n\nni.node('3', 'Ni!', shape='egg')\n\nni.attr('node', shape='star')\nni.node('4', 'Ni!')\nni.node('5', 'Ni!')", 
            "metadata": {}, 
            "execution_count": 11, 
            "cell_type": "code", 
            "outputs": []
        }, 
        {
            "metadata": {}, 
            "source": "By omitting its first argument, you can use it to set arbitrary attributes as key-value pairs targeting the current (sub-)graph (e.g. for `rankdir`, `label`, or setting `rank=same` within a subgraph context):", 
            "cell_type": "markdown"
        }, 
        {
            "source": "ni.attr(rankdir='LR')\n\nni.edges(['12', '23', '34', '45'])", 
            "metadata": {}, 
            "execution_count": 12, 
            "cell_type": "code", 
            "outputs": []
        }, 
        {
            "source": "print(ni.source)", 
            "metadata": {}, 
            "execution_count": 13, 
            "cell_type": "code", 
            "outputs": [
                {
                    "name": "stdout", 
                    "output_type": "stream", 
                    "text": "graph ni {\n\tnode [shape=rarrow]\n\t1 [label=\"Ni!\"]\n\t2 [label=\"Ni!\"]\n\t3 [label=\"Ni!\" shape=egg]\n\tnode [shape=star]\n\t4 [label=\"Ni!\"]\n\t5 [label=\"Ni!\"]\n\trankdir=LR\n\t1 -- 2\n\t2 -- 3\n\t3 -- 4\n\t4 -- 5\n}\n"
                }
            ]
        }, 
        {
            "source": "ni", 
            "metadata": {}, 
            "execution_count": 14, 
            "cell_type": "code", 
            "outputs": [
                {
                    "data": {
                        "text/plain": "<graphviz.dot.Graph at 0x7f17605f5470>", 
                        "image/svg+xml": "<?xml version=\"1.0\" encoding=\"UTF-8\" standalone=\"no\"?>\n<!DOCTYPE svg PUBLIC \"-//W3C//DTD SVG 1.1//EN\"\n \"http://www.w3.org/Graphics/SVG/1.1/DTD/svg11.dtd\">\n<!-- Generated by graphviz version 2.30.1 (20150306.0020)\n -->\n<!-- Title: ni Pages: 1 -->\n<svg width=\"426pt\" height=\"44pt\"\n viewBox=\"0.00 0.00 426.00 44.00\" xmlns=\"http://www.w3.org/2000/svg\" xmlns:xlink=\"http://www.w3.org/1999/xlink\">\n<g id=\"graph0\" class=\"graph\" transform=\"scale(1 1) rotate(0) translate(4 40)\">\n<title>ni</title>\n<polygon fill=\"white\" stroke=\"white\" points=\"-4,5 -4,-40 423,-40 423,5 -4,5\"/>\n<!-- 1 -->\n<g id=\"node1\" class=\"node\"><title>1</title>\n<polygon fill=\"none\" stroke=\"black\" points=\"36,-30 0,-30 0,-6 36,-6 36,-0 54,-18 36,-36 36,-30\"/>\n<text text-anchor=\"middle\" x=\"27\" y=\"-14.3\" font-family=\"Times,serif\" font-size=\"14.00\">Ni!</text>\n</g>\n<!-- 2 -->\n<g id=\"node2\" class=\"node\"><title>2</title>\n<polygon fill=\"none\" stroke=\"black\" points=\"126,-30 90,-30 90,-6 126,-6 126,-0 144,-18 126,-36 126,-30\"/>\n<text text-anchor=\"middle\" x=\"117\" y=\"-14.3\" font-family=\"Times,serif\" font-size=\"14.00\">Ni!</text>\n</g>\n<!-- 1&#45;&#45;2 -->\n<g id=\"edge1\" class=\"edge\"><title>1&#45;&#45;2</title>\n<path fill=\"none\" stroke=\"black\" d=\"M54.4029,-18C65.6421,-18 78.7152,-18 89.919,-18\"/>\n</g>\n<!-- 3 -->\n<g id=\"node3\" class=\"node\"><title>3</title>\n<polygon fill=\"none\" stroke=\"black\" points=\"211.683,-0.0493367 213.459,-0.147875 215.216,-0.295345 216.948,-0.491342 218.648,-0.735329 220.308,-1.02664 221.923,-1.36447 223.485,-1.7479 224.989,-2.17587 226.429,-2.64722 227.8,-3.16064 229.098,-3.71474 230.317,-4.308 231.455,-4.93879 232.507,-5.60537 233.472,-6.30593 234.346,-7.03854 235.127,-7.80119 235.815,-8.5918 236.408,-9.4082 236.906,-10.2481 237.309,-11.1093 237.617,-11.9894 237.832,-12.886 237.956,-13.7965 237.989,-14.7186 237.934,-15.6497 237.794,-16.5873 237.571,-17.5287 237.269,-18.4713 236.89,-19.4127 236.439,-20.3503 235.918,-21.2814 235.332,-22.2035 234.685,-23.114 233.981,-24.0106 233.223,-24.8907 232.415,-25.7519 231.561,-26.5918 230.666,-27.4082 229.732,-28.1988 228.764,-28.9615 227.764,-29.6941 226.737,-30.3946 225.684,-31.0612 224.61,-31.692 223.516,-32.2853 222.405,-32.8394 221.28,-33.3528 220.142,-33.8241 218.994,-34.2521 217.837,-34.6355 216.672,-34.9734 215.501,-35.2647 214.325,-35.5087 213.145,-35.7047 211.963,-35.8521 210.779,-35.9507 209.593,-36 208.407,-36 207.221,-35.9507 206.037,-35.8521 204.855,-35.7047 203.675,-35.5087 202.499,-35.2647 201.328,-34.9734 200.163,-34.6355 199.006,-34.2521 197.858,-33.8241 196.72,-33.3528 195.595,-32.8394 194.484,-32.2853 193.39,-31.692 192.316,-31.0612 191.263,-30.3946 190.236,-29.6941 189.236,-28.9615 188.268,-28.1988 187.334,-27.4082 186.439,-26.5918 185.585,-25.7519 184.777,-24.8907 184.019,-24.0106 183.315,-23.114 182.668,-22.2035 182.082,-21.2814 181.561,-20.3503 181.11,-19.4127 180.731,-18.4713 180.429,-17.5287 180.206,-16.5873 180.066,-15.6497 180.011,-14.7186 180.044,-13.7965 180.168,-12.886 180.383,-11.9894 180.691,-11.1093 181.094,-10.2481 181.592,-9.4082 182.185,-8.5918 182.873,-7.80119 183.654,-7.03854 184.528,-6.30593 185.493,-5.60537 186.545,-4.93879 187.683,-4.308 188.902,-3.71474 190.2,-3.16064 191.571,-2.64722 193.011,-2.17587 194.515,-1.7479 196.077,-1.36447 197.692,-1.02664 199.352,-0.735329 201.052,-0.491342 202.784,-0.295345 204.541,-0.147875 206.317,-0.0493367 208.105,-1.81188e-13 209.895,-1.84741e-13 211.683,-0.0493367\"/>\n<text text-anchor=\"middle\" x=\"209\" y=\"-14.3\" font-family=\"Times,serif\" font-size=\"14.00\">Ni!</text>\n</g>\n<!-- 2&#45;&#45;3 -->\n<g id=\"edge2\" class=\"edge\"><title>2&#45;&#45;3</title>\n<path fill=\"none\" stroke=\"black\" d=\"M144.032,-18C155.453,-18 168.87,-18 180.458,-18\"/>\n</g>\n<!-- 4 -->\n<g id=\"node4\" class=\"node\"><title>4</title>\n<polygon fill=\"none\" stroke=\"black\" points=\"328,-36 274,-36 274,-0 328,-0 328,-36\"/>\n<text text-anchor=\"middle\" x=\"301\" y=\"-14.3\" font-family=\"Times,serif\" font-size=\"14.00\">Ni!</text>\n</g>\n<!-- 3&#45;&#45;4 -->\n<g id=\"edge3\" class=\"edge\"><title>3&#45;&#45;4</title>\n<path fill=\"none\" stroke=\"black\" d=\"M237.492,-18C249.071,-18 262.483,-18 273.908,-18\"/>\n</g>\n<!-- 5 -->\n<g id=\"node5\" class=\"node\"><title>5</title>\n<polygon fill=\"none\" stroke=\"black\" points=\"418,-36 364,-36 364,-0 418,-0 418,-36\"/>\n<text text-anchor=\"middle\" x=\"391\" y=\"-14.3\" font-family=\"Times,serif\" font-size=\"14.00\">Ni!</text>\n</g>\n<!-- 4&#45;&#45;5 -->\n<g id=\"edge4\" class=\"edge\"><title>4&#45;&#45;5</title>\n<path fill=\"none\" stroke=\"black\" d=\"M328.403,-18C339.642,-18 352.715,-18 363.919,-18\"/>\n</g>\n</g>\n</svg>\n"
                    }, 
                    "metadata": {}, 
                    "execution_count": 14, 
                    "output_type": "execute_result"
                }
            ]
        }, 
        {
            "metadata": {}, 
            "source": "## Quoting and HTML-like labels\n\nThe graph-building methods of `Graph` and `Digraph` objects automatically take care of quoting/escaping strings [where required](https://www.graphviz.org/doc/info/lang.html) (whitespace, keywords, double quotes, etc.):", 
            "cell_type": "markdown"
        }, 
        {
            "source": "q = Digraph()\nq.edge('spam', 'eggs eggs')\nq.edge('node', '\"here\\'s a quote\"')\n", 
            "metadata": {}, 
            "execution_count": 15, 
            "cell_type": "code", 
            "outputs": []
        }, 
        {
            "source": "print(q.source)  \nq", 
            "metadata": {}, 
            "execution_count": 16, 
            "cell_type": "code", 
            "outputs": [
                {
                    "name": "stdout", 
                    "output_type": "stream", 
                    "text": "digraph {\n\tspam -> \"eggs eggs\"\n\t\"node\" -> \"\\\"here's a quote\\\"\"\n}\n"
                }, 
                {
                    "data": {
                        "text/plain": "<graphviz.dot.Digraph at 0x7f17605e8eb8>", 
                        "image/svg+xml": "<?xml version=\"1.0\" encoding=\"UTF-8\" standalone=\"no\"?>\n<!DOCTYPE svg PUBLIC \"-//W3C//DTD SVG 1.1//EN\"\n \"http://www.w3.org/Graphics/SVG/1.1/DTD/svg11.dtd\">\n<!-- Generated by graphviz version 2.30.1 (20150306.0020)\n -->\n<!-- Title: %3 Pages: 1 -->\n<svg width=\"249pt\" height=\"116pt\"\n viewBox=\"0.00 0.00 249.00 116.00\" xmlns=\"http://www.w3.org/2000/svg\" xmlns:xlink=\"http://www.w3.org/1999/xlink\">\n<g id=\"graph0\" class=\"graph\" transform=\"scale(1 1) rotate(0) translate(4 112)\">\n<title>%3</title>\n<polygon fill=\"white\" stroke=\"white\" points=\"-4,5 -4,-112 246,-112 246,5 -4,5\"/>\n<!-- spam -->\n<g id=\"node1\" class=\"node\"><title>spam</title>\n<ellipse fill=\"none\" stroke=\"black\" cx=\"45\" cy=\"-90\" rx=\"29.3479\" ry=\"18\"/>\n<text text-anchor=\"middle\" x=\"45\" y=\"-86.3\" font-family=\"Times,serif\" font-size=\"14.00\">spam</text>\n</g>\n<!-- eggs eggs -->\n<g id=\"node2\" class=\"node\"><title>eggs eggs</title>\n<ellipse fill=\"none\" stroke=\"black\" cx=\"45\" cy=\"-18\" rx=\"45.244\" ry=\"18\"/>\n<text text-anchor=\"middle\" x=\"45\" y=\"-14.3\" font-family=\"Times,serif\" font-size=\"14.00\">eggs eggs</text>\n</g>\n<!-- spam&#45;&gt;eggs eggs -->\n<g id=\"edge1\" class=\"edge\"><title>spam&#45;&gt;eggs eggs</title>\n<path fill=\"none\" stroke=\"black\" d=\"M45,-71.6966C45,-63.9827 45,-54.7125 45,-46.1124\"/>\n<polygon fill=\"black\" stroke=\"black\" points=\"48.5001,-46.1043 45,-36.1043 41.5001,-46.1044 48.5001,-46.1043\"/>\n</g>\n<!-- node -->\n<g id=\"node3\" class=\"node\"><title>node</title>\n<ellipse fill=\"none\" stroke=\"black\" cx=\"175\" cy=\"-90\" rx=\"27.4223\" ry=\"18\"/>\n<text text-anchor=\"middle\" x=\"175\" y=\"-86.3\" font-family=\"Times,serif\" font-size=\"14.00\">node</text>\n</g>\n<!-- &quot;here&#39;s a quote&quot; -->\n<g id=\"node4\" class=\"node\"><title>&quot;here&#39;s a quote&quot;</title>\n<ellipse fill=\"none\" stroke=\"black\" cx=\"175\" cy=\"-18\" rx=\"66.4165\" ry=\"18\"/>\n<text text-anchor=\"middle\" x=\"175\" y=\"-14.3\" font-family=\"Times,serif\" font-size=\"14.00\">&quot;here&#39;s a quote&quot;</text>\n</g>\n<!-- node&#45;&gt;&quot;here&#39;s a quote&quot; -->\n<g id=\"edge2\" class=\"edge\"><title>node&#45;&gt;&quot;here&#39;s a quote&quot;</title>\n<path fill=\"none\" stroke=\"black\" d=\"M175,-71.6966C175,-63.9827 175,-54.7125 175,-46.1124\"/>\n<polygon fill=\"black\" stroke=\"black\" points=\"178.5,-46.1043 175,-36.1043 171.5,-46.1044 178.5,-46.1043\"/>\n</g>\n</g>\n</svg>\n"
                    }, 
                    "metadata": {}, 
                    "execution_count": 16, 
                    "output_type": "execute_result"
                }
            ]
        }, 
        {
            "metadata": {}, 
            "source": "If a string starts with < and ends with >, it is passed on as is, without quoting/escaping: The content between the angle brackets is treated by the engine as special HTML string that can be used for [HTML-like labels](https://graphviz.gitlab.io/_pages/doc/info/shapes.html#html):", 
            "cell_type": "markdown"
        }, 
        {
            "source": "h = Graph('html_table')\nh.node('tab', label='''<<TABLE>\n...  <TR>\n...    <TD>left</TD>\n...    <TD>right</TD>\n...  </TR>\n... </TABLE>>''')", 
            "metadata": {}, 
            "execution_count": 17, 
            "cell_type": "code", 
            "outputs": []
        }, 
        {
            "source": "print(h.source)", 
            "metadata": {}, 
            "execution_count": 18, 
            "cell_type": "code", 
            "outputs": [
                {
                    "name": "stdout", 
                    "output_type": "stream", 
                    "text": "graph html_table {\n\ttab [label=<<TABLE>\n...  <TR>\n...    <TD>left</TD>\n...    <TD>right</TD>\n...  </TR>\n... </TABLE>>]\n}\n"
                }
            ]
        }, 
        {
            "source": "h", 
            "metadata": {}, 
            "execution_count": 19, 
            "cell_type": "code", 
            "outputs": [
                {
                    "data": {
                        "text/plain": "<graphviz.dot.Graph at 0x7f17605e8cf8>", 
                        "image/svg+xml": "<?xml version=\"1.0\" encoding=\"UTF-8\" standalone=\"no\"?>\n<!DOCTYPE svg PUBLIC \"-//W3C//DTD SVG 1.1//EN\"\n \"http://www.w3.org/Graphics/SVG/1.1/DTD/svg11.dtd\">\n<!-- Generated by graphviz version 2.30.1 (20150306.0020)\n -->\n<!-- Title: html_table Pages: 1 -->\n<svg width=\"122pt\" height=\"58pt\"\n viewBox=\"0.00 0.00 122.00 58.00\" xmlns=\"http://www.w3.org/2000/svg\" xmlns:xlink=\"http://www.w3.org/1999/xlink\">\n<g id=\"graph0\" class=\"graph\" transform=\"scale(1 1) rotate(0) translate(4 54)\">\n<title>html_table</title>\n<polygon fill=\"white\" stroke=\"white\" points=\"-4,5 -4,-54 119,-54 119,5 -4,5\"/>\n<!-- tab -->\n<g id=\"node1\" class=\"node\"><title>tab</title>\n<ellipse fill=\"none\" stroke=\"black\" cx=\"57\" cy=\"-25\" rx=\"57.4743\" ry=\"25\"/>\n<polygon fill=\"none\" stroke=\"black\" points=\"27,-14 27,-35 53,-35 53,-14 27,-14\"/>\n<text text-anchor=\"start\" x=\"30.5\" y=\"-21.3\" font-family=\"Times,serif\" font-size=\"14.00\">left</text>\n<polygon fill=\"none\" stroke=\"black\" points=\"55,-14 55,-35 87,-35 87,-14 55,-14\"/>\n<text text-anchor=\"start\" x=\"58\" y=\"-21.3\" font-family=\"Times,serif\" font-size=\"14.00\">right</text>\n<polygon fill=\"none\" stroke=\"black\" points=\"24,-11.5 24,-38.5 90,-38.5 90,-11.5 24,-11.5\"/>\n</g>\n</g>\n</svg>\n"
                    }, 
                    "metadata": {}, 
                    "execution_count": 19, 
                    "output_type": "execute_result"
                }
            ]
        }, 
        {
            "metadata": {}, 
            "source": "For strings that should literally begin with < and end with >, use the `nohtml()` function to disable the special meaning of angled parenthesis and apply normal quoting/escaping (before 0.8.2, the only workaround was to add leading or trailing space, e.g. `label=' <>'`):", 
            "cell_type": "markdown"
        }, 
        {
            "source": "from graphviz import nohtml\n\nd = Digraph(format='svg')\nd.node('diamond', label=nohtml('<>'))", 
            "metadata": {}, 
            "execution_count": 20, 
            "cell_type": "code", 
            "outputs": []
        }, 
        {
            "source": "print(d.source)  \nd", 
            "metadata": {}, 
            "execution_count": 21, 
            "cell_type": "code", 
            "outputs": [
                {
                    "name": "stdout", 
                    "output_type": "stream", 
                    "text": "digraph {\n\tdiamond [label=\"<>\"]\n}\n"
                }, 
                {
                    "data": {
                        "text/plain": "<graphviz.dot.Digraph at 0x7f17605e82e8>", 
                        "image/svg+xml": "<?xml version=\"1.0\" encoding=\"UTF-8\" standalone=\"no\"?>\n<!DOCTYPE svg PUBLIC \"-//W3C//DTD SVG 1.1//EN\"\n \"http://www.w3.org/Graphics/SVG/1.1/DTD/svg11.dtd\">\n<!-- Generated by graphviz version 2.30.1 (20150306.0020)\n -->\n<!-- Title: %3 Pages: 1 -->\n<svg width=\"62pt\" height=\"44pt\"\n viewBox=\"0.00 0.00 62.00 44.00\" xmlns=\"http://www.w3.org/2000/svg\" xmlns:xlink=\"http://www.w3.org/1999/xlink\">\n<g id=\"graph0\" class=\"graph\" transform=\"scale(1 1) rotate(0) translate(4 40)\">\n<title>%3</title>\n<polygon fill=\"white\" stroke=\"white\" points=\"-4,5 -4,-40 59,-40 59,5 -4,5\"/>\n<!-- diamond -->\n<g id=\"node1\" class=\"node\"><title>diamond</title>\n<ellipse fill=\"none\" stroke=\"black\" cx=\"27\" cy=\"-18\" rx=\"27\" ry=\"18\"/>\n<text text-anchor=\"middle\" x=\"27\" y=\"-14.3\" font-family=\"Times,serif\" font-size=\"14.00\">&lt;&gt;</text>\n</g>\n</g>\n</svg>\n"
                    }, 
                    "metadata": {}, 
                    "execution_count": 21, 
                    "output_type": "execute_result"
                }
            ]
        }, 
        {
            "metadata": {}, 
            "source": "## Subgraphs & clusters\n\n\nGraph and Digraph objects have a `subgraph()`-method for adding a subgraph to an instance.\n\nThere are two ways to use it: \n\n### Usage 1\n\nEither with a ready-made graph object of the same kind as the only argument (whose content is added as a subgraph) or omitting the `graph` argument (returning a context manager for defining the subgraph content more elegantly within a `with`-block).\n\nFirst usage option, with graph as the only argument:", 
            "cell_type": "markdown"
        }, 
        {
            "source": "p = Graph(name='parent')\np.edge('spam', 'eggs')\n\nc = Graph(name='child', node_attr={'shape': 'box'})\nc.edge('foo', 'bar')\n\np.subgraph(c)", 
            "metadata": {}, 
            "execution_count": 22, 
            "cell_type": "code", 
            "outputs": []
        }, 
        {
            "source": "print(c.source)\nc", 
            "metadata": {}, 
            "execution_count": 23, 
            "cell_type": "code", 
            "outputs": [
                {
                    "name": "stdout", 
                    "output_type": "stream", 
                    "text": "graph child {\n\tnode [shape=box]\n\tfoo -- bar\n}\n"
                }, 
                {
                    "data": {
                        "text/plain": "<graphviz.dot.Graph at 0x7f17605f5668>", 
                        "image/svg+xml": "<?xml version=\"1.0\" encoding=\"UTF-8\" standalone=\"no\"?>\n<!DOCTYPE svg PUBLIC \"-//W3C//DTD SVG 1.1//EN\"\n \"http://www.w3.org/Graphics/SVG/1.1/DTD/svg11.dtd\">\n<!-- Generated by graphviz version 2.30.1 (20150306.0020)\n -->\n<!-- Title: child Pages: 1 -->\n<svg width=\"62pt\" height=\"116pt\"\n viewBox=\"0.00 0.00 62.00 116.00\" xmlns=\"http://www.w3.org/2000/svg\" xmlns:xlink=\"http://www.w3.org/1999/xlink\">\n<g id=\"graph0\" class=\"graph\" transform=\"scale(1 1) rotate(0) translate(4 112)\">\n<title>child</title>\n<polygon fill=\"white\" stroke=\"white\" points=\"-4,5 -4,-112 59,-112 59,5 -4,5\"/>\n<!-- foo -->\n<g id=\"node1\" class=\"node\"><title>foo</title>\n<polygon fill=\"none\" stroke=\"black\" points=\"54,-108 0,-108 0,-72 54,-72 54,-108\"/>\n<text text-anchor=\"middle\" x=\"27\" y=\"-86.3\" font-family=\"Times,serif\" font-size=\"14.00\">foo</text>\n</g>\n<!-- bar -->\n<g id=\"node2\" class=\"node\"><title>bar</title>\n<polygon fill=\"none\" stroke=\"black\" points=\"54,-36 0,-36 0,-0 54,-0 54,-36\"/>\n<text text-anchor=\"middle\" x=\"27\" y=\"-14.3\" font-family=\"Times,serif\" font-size=\"14.00\">bar</text>\n</g>\n<!-- foo&#45;&#45;bar -->\n<g id=\"edge1\" class=\"edge\"><title>foo&#45;&#45;bar</title>\n<path fill=\"none\" stroke=\"black\" d=\"M27,-71.6966C27,-60.8463 27,-46.9167 27,-36.1043\"/>\n</g>\n</g>\n</svg>\n"
                    }, 
                    "metadata": {}, 
                    "execution_count": 23, 
                    "output_type": "execute_result"
                }
            ]
        }, 
        {
            "source": "print(p.source)\np", 
            "metadata": {}, 
            "execution_count": 24, 
            "cell_type": "code", 
            "outputs": [
                {
                    "name": "stdout", 
                    "output_type": "stream", 
                    "text": "graph parent {\n\tspam -- eggs\n\tsubgraph child {\n\t\tnode [shape=box]\n\t\tfoo -- bar\n\t}\n}\n"
                }, 
                {
                    "data": {
                        "text/plain": "<graphviz.dot.Graph at 0x7f17605f55c0>", 
                        "image/svg+xml": "<?xml version=\"1.0\" encoding=\"UTF-8\" standalone=\"no\"?>\n<!DOCTYPE svg PUBLIC \"-//W3C//DTD SVG 1.1//EN\"\n \"http://www.w3.org/Graphics/SVG/1.1/DTD/svg11.dtd\">\n<!-- Generated by graphviz version 2.30.1 (20150306.0020)\n -->\n<!-- Title: parent Pages: 1 -->\n<svg width=\"139pt\" height=\"116pt\"\n viewBox=\"0.00 0.00 139.00 116.00\" xmlns=\"http://www.w3.org/2000/svg\" xmlns:xlink=\"http://www.w3.org/1999/xlink\">\n<g id=\"graph0\" class=\"graph\" transform=\"scale(1 1) rotate(0) translate(4 112)\">\n<title>parent</title>\n<polygon fill=\"white\" stroke=\"white\" points=\"-4,5 -4,-112 136,-112 136,5 -4,5\"/>\n<!-- spam -->\n<g id=\"node1\" class=\"node\"><title>spam</title>\n<ellipse fill=\"none\" stroke=\"black\" cx=\"29\" cy=\"-90\" rx=\"29.3479\" ry=\"18\"/>\n<text text-anchor=\"middle\" x=\"29\" y=\"-86.3\" font-family=\"Times,serif\" font-size=\"14.00\">spam</text>\n</g>\n<!-- eggs -->\n<g id=\"node2\" class=\"node\"><title>eggs</title>\n<ellipse fill=\"none\" stroke=\"black\" cx=\"29\" cy=\"-18\" rx=\"27\" ry=\"18\"/>\n<text text-anchor=\"middle\" x=\"29\" y=\"-14.3\" font-family=\"Times,serif\" font-size=\"14.00\">eggs</text>\n</g>\n<!-- spam&#45;&#45;eggs -->\n<g id=\"edge1\" class=\"edge\"><title>spam&#45;&#45;eggs</title>\n<path fill=\"none\" stroke=\"black\" d=\"M29,-71.6966C29,-60.8463 29,-46.9167 29,-36.1043\"/>\n</g>\n<!-- foo -->\n<g id=\"node3\" class=\"node\"><title>foo</title>\n<polygon fill=\"none\" stroke=\"black\" points=\"131,-108 77,-108 77,-72 131,-72 131,-108\"/>\n<text text-anchor=\"middle\" x=\"104\" y=\"-86.3\" font-family=\"Times,serif\" font-size=\"14.00\">foo</text>\n</g>\n<!-- bar -->\n<g id=\"node4\" class=\"node\"><title>bar</title>\n<polygon fill=\"none\" stroke=\"black\" points=\"131,-36 77,-36 77,-0 131,-0 131,-36\"/>\n<text text-anchor=\"middle\" x=\"104\" y=\"-14.3\" font-family=\"Times,serif\" font-size=\"14.00\">bar</text>\n</g>\n<!-- foo&#45;&#45;bar -->\n<g id=\"edge2\" class=\"edge\"><title>foo&#45;&#45;bar</title>\n<path fill=\"none\" stroke=\"black\" d=\"M104,-71.6966C104,-60.8463 104,-46.9167 104,-36.1043\"/>\n</g>\n</g>\n</svg>\n"
                    }, 
                    "metadata": {}, 
                    "execution_count": 24, 
                    "output_type": "execute_result"
                }
            ]
        }, 
        {
            "metadata": {}, 
            "source": "### Usage 2\n\nSecond usage, with a `with`-block (omitting the graph argument):", 
            "cell_type": "markdown"
        }, 
        {
            "source": "p = Graph(name='parent')\np.edge('spam', 'eggs')\n\nwith p.subgraph(name='child', node_attr={'shape': 'box'}) as c: c.edge('foo', 'bar')", 
            "metadata": {}, 
            "execution_count": 25, 
            "cell_type": "code", 
            "outputs": []
        }, 
        {
            "source": "print(p.source)\np", 
            "metadata": {}, 
            "execution_count": 26, 
            "cell_type": "code", 
            "outputs": [
                {
                    "name": "stdout", 
                    "output_type": "stream", 
                    "text": "graph parent {\n\tspam -- eggs\n\tsubgraph child {\n\t\tnode [shape=box]\n\t\tfoo -- bar\n\t}\n}\n"
                }, 
                {
                    "data": {
                        "text/plain": "<graphviz.dot.Graph at 0x7f17605f5748>", 
                        "image/svg+xml": "<?xml version=\"1.0\" encoding=\"UTF-8\" standalone=\"no\"?>\n<!DOCTYPE svg PUBLIC \"-//W3C//DTD SVG 1.1//EN\"\n \"http://www.w3.org/Graphics/SVG/1.1/DTD/svg11.dtd\">\n<!-- Generated by graphviz version 2.30.1 (20150306.0020)\n -->\n<!-- Title: parent Pages: 1 -->\n<svg width=\"139pt\" height=\"116pt\"\n viewBox=\"0.00 0.00 139.00 116.00\" xmlns=\"http://www.w3.org/2000/svg\" xmlns:xlink=\"http://www.w3.org/1999/xlink\">\n<g id=\"graph0\" class=\"graph\" transform=\"scale(1 1) rotate(0) translate(4 112)\">\n<title>parent</title>\n<polygon fill=\"white\" stroke=\"white\" points=\"-4,5 -4,-112 136,-112 136,5 -4,5\"/>\n<!-- spam -->\n<g id=\"node1\" class=\"node\"><title>spam</title>\n<ellipse fill=\"none\" stroke=\"black\" cx=\"29\" cy=\"-90\" rx=\"29.3479\" ry=\"18\"/>\n<text text-anchor=\"middle\" x=\"29\" y=\"-86.3\" font-family=\"Times,serif\" font-size=\"14.00\">spam</text>\n</g>\n<!-- eggs -->\n<g id=\"node2\" class=\"node\"><title>eggs</title>\n<ellipse fill=\"none\" stroke=\"black\" cx=\"29\" cy=\"-18\" rx=\"27\" ry=\"18\"/>\n<text text-anchor=\"middle\" x=\"29\" y=\"-14.3\" font-family=\"Times,serif\" font-size=\"14.00\">eggs</text>\n</g>\n<!-- spam&#45;&#45;eggs -->\n<g id=\"edge1\" class=\"edge\"><title>spam&#45;&#45;eggs</title>\n<path fill=\"none\" stroke=\"black\" d=\"M29,-71.6966C29,-60.8463 29,-46.9167 29,-36.1043\"/>\n</g>\n<!-- foo -->\n<g id=\"node3\" class=\"node\"><title>foo</title>\n<polygon fill=\"none\" stroke=\"black\" points=\"131,-108 77,-108 77,-72 131,-72 131,-108\"/>\n<text text-anchor=\"middle\" x=\"104\" y=\"-86.3\" font-family=\"Times,serif\" font-size=\"14.00\">foo</text>\n</g>\n<!-- bar -->\n<g id=\"node4\" class=\"node\"><title>bar</title>\n<polygon fill=\"none\" stroke=\"black\" points=\"131,-36 77,-36 77,-0 131,-0 131,-36\"/>\n<text text-anchor=\"middle\" x=\"104\" y=\"-14.3\" font-family=\"Times,serif\" font-size=\"14.00\">bar</text>\n</g>\n<!-- foo&#45;&#45;bar -->\n<g id=\"edge2\" class=\"edge\"><title>foo&#45;&#45;bar</title>\n<path fill=\"none\" stroke=\"black\" d=\"M104,-71.6966C104,-60.8463 104,-46.9167 104,-36.1043\"/>\n</g>\n</g>\n</svg>\n"
                    }, 
                    "metadata": {}, 
                    "execution_count": 26, 
                    "output_type": "execute_result"
                }
            ]
        }, 
        {
            "metadata": {}, 
            "source": "## Custom DOT statements\n\nTo add arbitrary statements to the created DOT source, use the body attribute of the `Graph` or `Digraph` object. It holds the verbatim list of lines to be written to the source file. Use its `append()` or `extend()` method.\n\nNote that you might need to correctly quote/escape identifiers and strings containing whitespace or other special characters when using this method.\n", 
            "cell_type": "markdown"
        }, 
        {
            "source": "rt = Digraph(comment='The Round Table')\n\nrt.body.append('\\t\"King Arthur\" -> {\\n\\t\\t\"Sir Bedevere\", \"Sir Lancelot\"\\n\\t}')\nrt.edge('Sir Bedevere', 'Sir Lancelot', constraint='false')\n\n", 
            "metadata": {}, 
            "execution_count": 27, 
            "cell_type": "code", 
            "outputs": []
        }, 
        {
            "source": "print(rt.source) \nrt", 
            "metadata": {}, 
            "execution_count": 28, 
            "cell_type": "code", 
            "outputs": [
                {
                    "name": "stdout", 
                    "output_type": "stream", 
                    "text": "// The Round Table\ndigraph {\n\t\"King Arthur\" -> {\n\t\t\"Sir Bedevere\", \"Sir Lancelot\"\n\t}\n\t\"Sir Bedevere\" -> \"Sir Lancelot\" [constraint=false]\n}\n"
                }, 
                {
                    "data": {
                        "text/plain": "<graphviz.dot.Digraph at 0x7f17605f5390>", 
                        "image/svg+xml": "<?xml version=\"1.0\" encoding=\"UTF-8\" standalone=\"no\"?>\n<!DOCTYPE svg PUBLIC \"-//W3C//DTD SVG 1.1//EN\"\n \"http://www.w3.org/Graphics/SVG/1.1/DTD/svg11.dtd\">\n<!-- Generated by graphviz version 2.30.1 (20150306.0020)\n -->\n<!-- Title: %3 Pages: 1 -->\n<svg width=\"245pt\" height=\"116pt\"\n viewBox=\"0.00 0.00 245.00 116.00\" xmlns=\"http://www.w3.org/2000/svg\" xmlns:xlink=\"http://www.w3.org/1999/xlink\">\n<g id=\"graph0\" class=\"graph\" transform=\"scale(1 1) rotate(0) translate(4 112)\">\n<title>%3</title>\n<polygon fill=\"white\" stroke=\"white\" points=\"-4,5 -4,-112 242,-112 242,5 -4,5\"/>\n<!-- King Arthur -->\n<g id=\"node1\" class=\"node\"><title>King Arthur</title>\n<ellipse fill=\"none\" stroke=\"black\" cx=\"120\" cy=\"-90\" rx=\"53.4184\" ry=\"18\"/>\n<text text-anchor=\"middle\" x=\"120\" y=\"-86.3\" font-family=\"Times,serif\" font-size=\"14.00\">King Arthur</text>\n</g>\n<!-- Sir Bedevere -->\n<g id=\"node2\" class=\"node\"><title>Sir Bedevere</title>\n<ellipse fill=\"none\" stroke=\"black\" cx=\"56\" cy=\"-18\" rx=\"56.3173\" ry=\"18\"/>\n<text text-anchor=\"middle\" x=\"56\" y=\"-14.3\" font-family=\"Times,serif\" font-size=\"14.00\">Sir Bedevere</text>\n</g>\n<!-- King Arthur&#45;&gt;Sir Bedevere -->\n<g id=\"edge1\" class=\"edge\"><title>King Arthur&#45;&gt;Sir Bedevere</title>\n<path fill=\"none\" stroke=\"black\" d=\"M104.833,-72.411C96.7828,-63.6062 86.7458,-52.6282 77.8687,-42.9189\"/>\n<polygon fill=\"black\" stroke=\"black\" points=\"80.3891,-40.4886 71.0582,-35.4699 75.2229,-45.212 80.3891,-40.4886\"/>\n</g>\n<!-- Sir Lancelot -->\n<g id=\"node3\" class=\"node\"><title>Sir Lancelot</title>\n<ellipse fill=\"none\" stroke=\"black\" cx=\"184\" cy=\"-18\" rx=\"53.4184\" ry=\"18\"/>\n<text text-anchor=\"middle\" x=\"184\" y=\"-14.3\" font-family=\"Times,serif\" font-size=\"14.00\">Sir Lancelot</text>\n</g>\n<!-- King Arthur&#45;&gt;Sir Lancelot -->\n<g id=\"edge2\" class=\"edge\"><title>King Arthur&#45;&gt;Sir Lancelot</title>\n<path fill=\"none\" stroke=\"black\" d=\"M135.167,-72.411C143.217,-63.6062 153.254,-52.6282 162.131,-42.9189\"/>\n<polygon fill=\"black\" stroke=\"black\" points=\"164.777,-45.212 168.942,-35.4699 159.611,-40.4886 164.777,-45.212\"/>\n</g>\n<!-- Sir Bedevere&#45;&gt;Sir Lancelot -->\n<g id=\"edge3\" class=\"edge\"><title>Sir Bedevere&#45;&gt;Sir Lancelot</title>\n<path fill=\"none\" stroke=\"black\" d=\"M112.5,-18C115.107,-18 117.714,-18 120.32,-18\"/>\n<polygon fill=\"black\" stroke=\"black\" points=\"120.375,-21.5001 130.375,-18 120.375,-14.5001 120.375,-21.5001\"/>\n</g>\n</g>\n</svg>\n"
                    }, 
                    "metadata": {}, 
                    "execution_count": 28, 
                    "output_type": "execute_result"
                }
            ]
        }, 
        {
            "metadata": {}, 
            "source": "## Using raw DOT\n\nTo render a ready-made DOT source code string (instead of assembling one with the higher-level interface of `Graph` or `Digraph`), create a `Source` object holding your DOT string:\n\n", 
            "cell_type": "markdown"
        }, 
        {
            "source": "from graphviz import Source\n\nsrc = Source('digraph \"the holy hand grenade\" { rankdir=LR; 1 -> 2 -> 3 -> lob }')\nsrc", 
            "metadata": {}, 
            "execution_count": 29, 
            "cell_type": "code", 
            "outputs": [
                {
                    "data": {
                        "text/plain": "<graphviz.files.Source at 0x7f17605f53c8>", 
                        "image/svg+xml": "<?xml version=\"1.0\" encoding=\"UTF-8\" standalone=\"no\"?>\n<!DOCTYPE svg PUBLIC \"-//W3C//DTD SVG 1.1//EN\"\n \"http://www.w3.org/Graphics/SVG/1.1/DTD/svg11.dtd\">\n<!-- Generated by graphviz version 2.30.1 (20150306.0020)\n -->\n<!-- Title: the holy hand grenade Pages: 1 -->\n<svg width=\"332pt\" height=\"44pt\"\n viewBox=\"0.00 0.00 332.00 44.00\" xmlns=\"http://www.w3.org/2000/svg\" xmlns:xlink=\"http://www.w3.org/1999/xlink\">\n<g id=\"graph0\" class=\"graph\" transform=\"scale(1 1) rotate(0) translate(4 40)\">\n<title>the holy hand grenade</title>\n<polygon fill=\"white\" stroke=\"white\" points=\"-4,5 -4,-40 329,-40 329,5 -4,5\"/>\n<!-- 1 -->\n<g id=\"node1\" class=\"node\"><title>1</title>\n<ellipse fill=\"none\" stroke=\"black\" cx=\"27\" cy=\"-18\" rx=\"27\" ry=\"18\"/>\n<text text-anchor=\"middle\" x=\"27\" y=\"-14.3\" font-family=\"Times,serif\" font-size=\"14.00\">1</text>\n</g>\n<!-- 2 -->\n<g id=\"node2\" class=\"node\"><title>2</title>\n<ellipse fill=\"none\" stroke=\"black\" cx=\"117\" cy=\"-18\" rx=\"27\" ry=\"18\"/>\n<text text-anchor=\"middle\" x=\"117\" y=\"-14.3\" font-family=\"Times,serif\" font-size=\"14.00\">2</text>\n</g>\n<!-- 1&#45;&gt;2 -->\n<g id=\"edge1\" class=\"edge\"><title>1&#45;&gt;2</title>\n<path fill=\"none\" stroke=\"black\" d=\"M54.4029,-18C62.3932,-18 71.3106,-18 79.8241,-18\"/>\n<polygon fill=\"black\" stroke=\"black\" points=\"79.919,-21.5001 89.919,-18 79.919,-14.5001 79.919,-21.5001\"/>\n</g>\n<!-- 3 -->\n<g id=\"node3\" class=\"node\"><title>3</title>\n<ellipse fill=\"none\" stroke=\"black\" cx=\"207\" cy=\"-18\" rx=\"27\" ry=\"18\"/>\n<text text-anchor=\"middle\" x=\"207\" y=\"-14.3\" font-family=\"Times,serif\" font-size=\"14.00\">3</text>\n</g>\n<!-- 2&#45;&gt;3 -->\n<g id=\"edge2\" class=\"edge\"><title>2&#45;&gt;3</title>\n<path fill=\"none\" stroke=\"black\" d=\"M144.403,-18C152.393,-18 161.311,-18 169.824,-18\"/>\n<polygon fill=\"black\" stroke=\"black\" points=\"169.919,-21.5001 179.919,-18 169.919,-14.5001 169.919,-21.5001\"/>\n</g>\n<!-- lob -->\n<g id=\"node4\" class=\"node\"><title>lob</title>\n<ellipse fill=\"none\" stroke=\"black\" cx=\"297\" cy=\"-18\" rx=\"27\" ry=\"18\"/>\n<text text-anchor=\"middle\" x=\"297\" y=\"-14.3\" font-family=\"Times,serif\" font-size=\"14.00\">lob</text>\n</g>\n<!-- 3&#45;&gt;lob -->\n<g id=\"edge3\" class=\"edge\"><title>3&#45;&gt;lob</title>\n<path fill=\"none\" stroke=\"black\" d=\"M234.403,-18C242.393,-18 251.311,-18 259.824,-18\"/>\n<polygon fill=\"black\" stroke=\"black\" points=\"259.919,-21.5001 269.919,-18 259.919,-14.5001 259.919,-21.5001\"/>\n</g>\n</g>\n</svg>\n"
                    }, 
                    "metadata": {}, 
                    "execution_count": 29, 
                    "output_type": "execute_result"
                }
            ]
        }, 
        {
            "metadata": {}, 
            "source": "## Existing files\n\nTo directly render an existing DOT source file (e.g. created with other tools), you can use the `Source.from_file()` function.", 
            "cell_type": "markdown"
        }, 
        {
            "source": "!ls *.gv\n#!rm *.gv", 
            "metadata": {}, 
            "execution_count": 30, 
            "cell_type": "code", 
            "outputs": [
                {
                    "name": "stdout", 
                    "output_type": "stream", 
                    "text": "gvsample0.gv  gvsample1.gv  gvsample2.gv  gvsample3.gv\tgvsample4.gv\r\n"
                }
            ]
        }, 
        {
            "source": "from graphviz import render\n#!pip install wget\nimport wget\nwget.download('https://github.com/tuliplab/mds/raw/master/Jupyter/data/gvsample0.gv')\n\n\nSource.from_file('gvsample0.gv')\n", 
            "metadata": {}, 
            "execution_count": 31, 
            "cell_type": "code", 
            "outputs": [
                {
                    "data": {
                        "text/plain": "<graphviz.files.Source at 0x7f17605f52e8>", 
                        "image/svg+xml": "<?xml version=\"1.0\" encoding=\"UTF-8\" standalone=\"no\"?>\n<!DOCTYPE svg PUBLIC \"-//W3C//DTD SVG 1.1//EN\"\n \"http://www.w3.org/Graphics/SVG/1.1/DTD/svg11.dtd\">\n<!-- Generated by graphviz version 2.30.1 (20150306.0020)\n -->\n<!-- Title: G Pages: 1 -->\n<svg width=\"261pt\" height=\"152pt\"\n viewBox=\"0.00 0.00 261.00 152.00\" xmlns=\"http://www.w3.org/2000/svg\" xmlns:xlink=\"http://www.w3.org/1999/xlink\">\n<g id=\"graph0\" class=\"graph\" transform=\"scale(1 1) rotate(0) translate(4 148)\">\n<title>G</title>\n<polygon fill=\"white\" stroke=\"white\" points=\"-4,5 -4,-148 258,-148 258,5 -4,5\"/>\n<!-- struct1 -->\n<g id=\"node1\" class=\"node\"><title>struct1</title>\n<polygon fill=\"none\" stroke=\"black\" points=\"8,-107 8,-143 140,-143 140,-107 8,-107\"/>\n<text text-anchor=\"middle\" x=\"25.5\" y=\"-121.3\" font-family=\"Times,serif\" font-size=\"14.00\">left</text>\n<polyline fill=\"none\" stroke=\"black\" points=\"43,-107 43,-143 \"/>\n<text text-anchor=\"middle\" x=\"70.5\" y=\"-121.3\" font-family=\"Times,serif\" font-size=\"14.00\">middle</text>\n<polyline fill=\"none\" stroke=\"black\" points=\"98,-107 98,-143 \"/>\n<text text-anchor=\"middle\" x=\"119\" y=\"-121.3\" font-family=\"Times,serif\" font-size=\"14.00\">right</text>\n</g>\n<!-- struct2 -->\n<g id=\"node2\" class=\"node\"><title>struct2</title>\n<polygon fill=\"none\" stroke=\"black\" points=\"-0.5,-17 -0.5,-53 72.5,-53 72.5,-17 -0.5,-17\"/>\n<text text-anchor=\"middle\" x=\"17.5\" y=\"-31.3\" font-family=\"Times,serif\" font-size=\"14.00\">one</text>\n<polyline fill=\"none\" stroke=\"black\" points=\"35.5,-17 35.5,-53 \"/>\n<text text-anchor=\"middle\" x=\"54\" y=\"-31.3\" font-family=\"Times,serif\" font-size=\"14.00\">two</text>\n</g>\n<!-- struct1&#45;&gt;struct2 -->\n<g id=\"edge1\" class=\"edge\"><title>struct1:f1&#45;&gt;struct2:f0</title>\n<path fill=\"none\" stroke=\"black\" d=\"M70,-106C70,-76.8674 28.694,-84.3641 19.0129,-63.8165\"/>\n<polygon fill=\"black\" stroke=\"black\" points=\"22.4375,-63.0931 17,-54 15.5802,-64.4993 22.4375,-63.0931\"/>\n</g>\n<!-- struct3 -->\n<g id=\"node3\" class=\"node\"><title>struct3</title>\n<polygon fill=\"none\" stroke=\"black\" points=\"90.5,-0.5 90.5,-69.5 253.5,-69.5 253.5,-0.5 90.5,-0.5\"/>\n<text text-anchor=\"middle\" x=\"114.5\" y=\"-38.8\" font-family=\"Times,serif\" font-size=\"14.00\">hello</text>\n<text text-anchor=\"middle\" x=\"114.5\" y=\"-23.8\" font-family=\"Times,serif\" font-size=\"14.00\">world</text>\n<polyline fill=\"none\" stroke=\"black\" points=\"138.5,-0.5 138.5,-69.5 \"/>\n<text text-anchor=\"middle\" x=\"173\" y=\"-54.3\" font-family=\"Times,serif\" font-size=\"14.00\">b</text>\n<polyline fill=\"none\" stroke=\"black\" points=\"138.5,-46.5 207.5,-46.5 \"/>\n<text text-anchor=\"middle\" x=\"150\" y=\"-31.3\" font-family=\"Times,serif\" font-size=\"14.00\">c</text>\n<polyline fill=\"none\" stroke=\"black\" points=\"161.5,-23.5 161.5,-46.5 \"/>\n<text text-anchor=\"middle\" x=\"173\" y=\"-31.3\" font-family=\"Times,serif\" font-size=\"14.00\">d</text>\n<polyline fill=\"none\" stroke=\"black\" points=\"184.5,-23.5 184.5,-46.5 \"/>\n<text text-anchor=\"middle\" x=\"196\" y=\"-31.3\" font-family=\"Times,serif\" font-size=\"14.00\">e</text>\n<polyline fill=\"none\" stroke=\"black\" points=\"138.5,-23.5 207.5,-23.5 \"/>\n<text text-anchor=\"middle\" x=\"173\" y=\"-8.3\" font-family=\"Times,serif\" font-size=\"14.00\">f</text>\n<polyline fill=\"none\" stroke=\"black\" points=\"207.5,-0.5 207.5,-69.5 \"/>\n<text text-anchor=\"middle\" x=\"219\" y=\"-31.3\" font-family=\"Times,serif\" font-size=\"14.00\">g</text>\n<polyline fill=\"none\" stroke=\"black\" points=\"230.5,-0.5 230.5,-69.5 \"/>\n<text text-anchor=\"middle\" x=\"242\" y=\"-31.3\" font-family=\"Times,serif\" font-size=\"14.00\">h</text>\n</g>\n<!-- struct1&#45;&gt;struct3 -->\n<g id=\"edge2\" class=\"edge\"><title>struct1:f2&#45;&gt;struct3:here</title>\n<path fill=\"none\" stroke=\"black\" d=\"M119,-106C119,-94.0887 138.498,-70.8562 154.061,-54.209\"/>\n<polygon fill=\"black\" stroke=\"black\" points=\"156.909,-56.2942 161.283,-46.6441 151.846,-51.4607 156.909,-56.2942\"/>\n</g>\n</g>\n</svg>\n"
                    }, 
                    "metadata": {}, 
                    "execution_count": 31, 
                    "output_type": "execute_result"
                }
            ]
        }, 
        {
            "source": "wget.download('https://github.com/tuliplab/mds/raw/master/Jupyter/data/gvsample1.gv')\n\nSource.from_file('gvsample1.gv')", 
            "metadata": {}, 
            "execution_count": 32, 
            "cell_type": "code", 
            "outputs": [
                {
                    "data": {
                        "text/plain": "<graphviz.files.Source at 0x7f17605f52b0>", 
                        "image/svg+xml": "<?xml version=\"1.0\" encoding=\"UTF-8\" standalone=\"no\"?>\n<!DOCTYPE svg PUBLIC \"-//W3C//DTD SVG 1.1//EN\"\n \"http://www.w3.org/Graphics/SVG/1.1/DTD/svg11.dtd\">\n<!-- Generated by graphviz version 2.30.1 (20150306.0020)\n -->\n<!-- Title: G Pages: 1 -->\n<svg width=\"261pt\" height=\"152pt\"\n viewBox=\"0.00 0.00 261.00 152.00\" xmlns=\"http://www.w3.org/2000/svg\" xmlns:xlink=\"http://www.w3.org/1999/xlink\">\n<g id=\"graph0\" class=\"graph\" transform=\"scale(1 1) rotate(0) translate(4 148)\">\n<title>G</title>\n<polygon fill=\"white\" stroke=\"white\" points=\"-4,5 -4,-148 258,-148 258,5 -4,5\"/>\n<!-- struct1 -->\n<g id=\"node1\" class=\"node\"><title>struct1</title>\n<polygon fill=\"none\" stroke=\"black\" points=\"8,-107 8,-143 140,-143 140,-107 8,-107\"/>\n<text text-anchor=\"middle\" x=\"25.5\" y=\"-121.3\" font-family=\"Times,serif\" font-size=\"14.00\">left</text>\n<polyline fill=\"none\" stroke=\"black\" points=\"43,-107 43,-143 \"/>\n<text text-anchor=\"middle\" x=\"70.5\" y=\"-121.3\" font-family=\"Times,serif\" font-size=\"14.00\">middle</text>\n<polyline fill=\"none\" stroke=\"black\" points=\"98,-107 98,-143 \"/>\n<text text-anchor=\"middle\" x=\"119\" y=\"-121.3\" font-family=\"Times,serif\" font-size=\"14.00\">right</text>\n</g>\n<!-- struct2 -->\n<g id=\"node2\" class=\"node\"><title>struct2</title>\n<polygon fill=\"none\" stroke=\"black\" points=\"-0.5,-17 -0.5,-53 72.5,-53 72.5,-17 -0.5,-17\"/>\n<text text-anchor=\"middle\" x=\"17.5\" y=\"-31.3\" font-family=\"Times,serif\" font-size=\"14.00\">one</text>\n<polyline fill=\"none\" stroke=\"black\" points=\"35.5,-17 35.5,-53 \"/>\n<text text-anchor=\"middle\" x=\"54\" y=\"-31.3\" font-family=\"Times,serif\" font-size=\"14.00\">two</text>\n</g>\n<!-- struct1&#45;&gt;struct2 -->\n<g id=\"edge1\" class=\"edge\"><title>struct1:f1&#45;&gt;struct2:f0</title>\n<path fill=\"none\" stroke=\"black\" d=\"M70,-106C70,-76.8674 28.694,-84.3641 19.0129,-63.8165\"/>\n<polygon fill=\"black\" stroke=\"black\" points=\"22.4375,-63.0931 17,-54 15.5802,-64.4993 22.4375,-63.0931\"/>\n</g>\n<!-- struct3 -->\n<g id=\"node3\" class=\"node\"><title>struct3</title>\n<polygon fill=\"none\" stroke=\"black\" points=\"90.5,-0.5 90.5,-69.5 253.5,-69.5 253.5,-0.5 90.5,-0.5\"/>\n<text text-anchor=\"middle\" x=\"114.5\" y=\"-38.8\" font-family=\"Times,serif\" font-size=\"14.00\">hello</text>\n<text text-anchor=\"middle\" x=\"114.5\" y=\"-23.8\" font-family=\"Times,serif\" font-size=\"14.00\">world</text>\n<polyline fill=\"none\" stroke=\"black\" points=\"138.5,-0.5 138.5,-69.5 \"/>\n<text text-anchor=\"middle\" x=\"173\" y=\"-54.3\" font-family=\"Times,serif\" font-size=\"14.00\">b</text>\n<polyline fill=\"none\" stroke=\"black\" points=\"138.5,-46.5 207.5,-46.5 \"/>\n<text text-anchor=\"middle\" x=\"150\" y=\"-31.3\" font-family=\"Times,serif\" font-size=\"14.00\">c</text>\n<polyline fill=\"none\" stroke=\"black\" points=\"161.5,-23.5 161.5,-46.5 \"/>\n<text text-anchor=\"middle\" x=\"173\" y=\"-31.3\" font-family=\"Times,serif\" font-size=\"14.00\">d</text>\n<polyline fill=\"none\" stroke=\"black\" points=\"184.5,-23.5 184.5,-46.5 \"/>\n<text text-anchor=\"middle\" x=\"196\" y=\"-31.3\" font-family=\"Times,serif\" font-size=\"14.00\">e</text>\n<polyline fill=\"none\" stroke=\"black\" points=\"138.5,-23.5 207.5,-23.5 \"/>\n<text text-anchor=\"middle\" x=\"173\" y=\"-8.3\" font-family=\"Times,serif\" font-size=\"14.00\">f</text>\n<polyline fill=\"none\" stroke=\"black\" points=\"207.5,-0.5 207.5,-69.5 \"/>\n<text text-anchor=\"middle\" x=\"219\" y=\"-31.3\" font-family=\"Times,serif\" font-size=\"14.00\">g</text>\n<polyline fill=\"none\" stroke=\"black\" points=\"230.5,-0.5 230.5,-69.5 \"/>\n<text text-anchor=\"middle\" x=\"242\" y=\"-31.3\" font-family=\"Times,serif\" font-size=\"14.00\">h</text>\n</g>\n<!-- struct1&#45;&gt;struct3 -->\n<g id=\"edge2\" class=\"edge\"><title>struct1:f2&#45;&gt;struct3:here</title>\n<path fill=\"none\" stroke=\"black\" d=\"M119,-106C119,-94.0887 138.498,-70.8562 154.061,-54.209\"/>\n<polygon fill=\"black\" stroke=\"black\" points=\"156.909,-56.2942 161.283,-46.6441 151.846,-51.4607 156.909,-56.2942\"/>\n</g>\n</g>\n</svg>\n"
                    }, 
                    "metadata": {}, 
                    "execution_count": 32, 
                    "output_type": "execute_result"
                }
            ]
        }, 
        {
            "source": "wget.download('https://github.com/tuliplab/mds/raw/master/Jupyter/data/gvsample2.gv')\n\n\nSource.from_file('gvsample2.gv')", 
            "metadata": {}, 
            "execution_count": 33, 
            "cell_type": "code", 
            "outputs": [
                {
                    "data": {
                        "text/plain": "<graphviz.files.Source at 0x7f17605e1f98>", 
                        "image/svg+xml": "<?xml version=\"1.0\" encoding=\"UTF-8\" standalone=\"no\"?>\n<!DOCTYPE svg PUBLIC \"-//W3C//DTD SVG 1.1//EN\"\n \"http://www.w3.org/Graphics/SVG/1.1/DTD/svg11.dtd\">\n<!-- Generated by graphviz version 2.30.1 (20150306.0020)\n -->\n<!-- Title: G Pages: 1 -->\n<svg width=\"316pt\" height=\"246pt\"\n viewBox=\"0.00 0.00 316.00 246.00\" xmlns=\"http://www.w3.org/2000/svg\" xmlns:xlink=\"http://www.w3.org/1999/xlink\">\n<g id=\"graph0\" class=\"graph\" transform=\"scale(1 1) rotate(0) translate(4 242)\">\n<title>G</title>\n<polygon fill=\"white\" stroke=\"white\" points=\"-4,5 -4,-242 313,-242 313,5 -4,5\"/>\n<g id=\"clust1\" class=\"cluster\"><title>cluster_0</title>\n<polygon fill=\"none\" stroke=\"hotpink\" points=\"158,-8 158,-155 300,-155 300,-8 158,-8\"/>\n<text text-anchor=\"middle\" x=\"229\" y=\"-139.8\" font-family=\"Times,serif\" font-size=\"14.00\">hello world</text>\n</g>\n<g id=\"clust2\" class=\"cluster\"><title>cluster_1</title>\n<polygon fill=\"none\" stroke=\"purple\" stroke-dasharray=\"5,2\" points=\"8,-8 8,-230 150,-230 150,-8 8,-8\"/>\n<text text-anchor=\"middle\" x=\"79\" y=\"-214.8\" font-family=\"Times,serif\" font-size=\"14.00\">MSDOT</text>\n</g>\n<!-- a -->\n<g id=\"node1\" class=\"node\"><title>a</title>\n<ellipse fill=\"none\" stroke=\"black\" cx=\"193\" cy=\"-106\" rx=\"27\" ry=\"18\"/>\n<text text-anchor=\"middle\" x=\"193\" y=\"-102.3\" font-family=\"Times,serif\" font-size=\"14.00\">a</text>\n</g>\n<!-- b -->\n<g id=\"node2\" class=\"node\"><title>b</title>\n<ellipse fill=\"none\" stroke=\"black\" cx=\"193\" cy=\"-34\" rx=\"27\" ry=\"18\"/>\n<text text-anchor=\"middle\" x=\"193\" y=\"-30.3\" font-family=\"Times,serif\" font-size=\"14.00\">b</text>\n</g>\n<!-- a&#45;&gt;b -->\n<g id=\"edge1\" class=\"edge\"><title>a&#45;&gt;b</title>\n<path fill=\"none\" stroke=\"black\" d=\"M193,-87.6966C193,-79.9827 193,-70.7125 193,-62.1124\"/>\n<polygon fill=\"black\" stroke=\"black\" points=\"196.5,-62.1043 193,-52.1043 189.5,-62.1044 196.5,-62.1043\"/>\n</g>\n<!-- c -->\n<g id=\"node3\" class=\"node\"><title>c</title>\n<ellipse fill=\"none\" stroke=\"black\" cx=\"265\" cy=\"-34\" rx=\"27\" ry=\"18\"/>\n<text text-anchor=\"middle\" x=\"265\" y=\"-30.3\" font-family=\"Times,serif\" font-size=\"14.00\">c</text>\n</g>\n<!-- a&#45;&gt;c -->\n<g id=\"edge2\" class=\"edge\"><title>a&#45;&gt;c</title>\n<path fill=\"none\" stroke=\"black\" d=\"M207.57,-90.8345C217.75,-80.9376 231.524,-67.5462 243.031,-56.3591\"/>\n<polygon fill=\"black\" stroke=\"black\" points=\"245.474,-58.865 250.204,-49.3847 240.595,-53.8461 245.474,-58.865\"/>\n</g>\n<!-- x -->\n<g id=\"node4\" class=\"node\"><title>x</title>\n<ellipse fill=\"none\" stroke=\"black\" cx=\"79\" cy=\"-181\" rx=\"27\" ry=\"18\"/>\n<text text-anchor=\"middle\" x=\"79\" y=\"-177.3\" font-family=\"Times,serif\" font-size=\"14.00\">x</text>\n</g>\n<!-- y -->\n<g id=\"node5\" class=\"node\"><title>y</title>\n<ellipse fill=\"none\" stroke=\"black\" cx=\"115\" cy=\"-106\" rx=\"27\" ry=\"18\"/>\n<text text-anchor=\"middle\" x=\"115\" y=\"-102.3\" font-family=\"Times,serif\" font-size=\"14.00\">y</text>\n</g>\n<!-- x&#45;&gt;y -->\n<g id=\"edge3\" class=\"edge\"><title>x&#45;&gt;y</title>\n<path fill=\"none\" stroke=\"black\" d=\"M86.9896,-163.799C91.5254,-154.601 97.3048,-142.882 102.434,-132.48\"/>\n<polygon fill=\"black\" stroke=\"black\" points=\"105.624,-133.925 106.908,-123.408 99.3462,-130.829 105.624,-133.925\"/>\n</g>\n<!-- z -->\n<g id=\"node6\" class=\"node\"><title>z</title>\n<ellipse fill=\"none\" stroke=\"black\" cx=\"43\" cy=\"-34\" rx=\"27\" ry=\"18\"/>\n<text text-anchor=\"middle\" x=\"43\" y=\"-30.3\" font-family=\"Times,serif\" font-size=\"14.00\">z</text>\n</g>\n<!-- x&#45;&gt;z -->\n<g id=\"edge4\" class=\"edge\"><title>x&#45;&gt;z</title>\n<path fill=\"none\" stroke=\"black\" d=\"M74.7999,-163.083C68.6218,-138.199 57.0231,-91.482 49.6717,-61.8721\"/>\n<polygon fill=\"black\" stroke=\"black\" points=\"52.9799,-60.6713 47.1734,-51.8094 46.1862,-62.3581 52.9799,-60.6713\"/>\n</g>\n<!-- y&#45;&gt;z -->\n<g id=\"edge5\" class=\"edge\"><title>y&#45;&gt;z</title>\n<path fill=\"none\" stroke=\"black\" d=\"M100.43,-90.8345C90.2501,-80.9376 76.4761,-67.5462 64.9694,-56.3591\"/>\n<polygon fill=\"black\" stroke=\"black\" points=\"67.4055,-53.8461 57.7957,-49.3847 62.5259,-58.865 67.4055,-53.8461\"/>\n</g>\n<!-- q -->\n<g id=\"node7\" class=\"node\"><title>q</title>\n<ellipse fill=\"none\" stroke=\"black\" cx=\"115\" cy=\"-34\" rx=\"27\" ry=\"18\"/>\n<text text-anchor=\"middle\" x=\"115\" y=\"-30.3\" font-family=\"Times,serif\" font-size=\"14.00\">q</text>\n</g>\n<!-- y&#45;&gt;q -->\n<g id=\"edge6\" class=\"edge\"><title>y&#45;&gt;q</title>\n<path fill=\"none\" stroke=\"black\" d=\"M115,-87.6966C115,-79.9827 115,-70.7125 115,-62.1124\"/>\n<polygon fill=\"black\" stroke=\"black\" points=\"118.5,-62.1043 115,-52.1043 111.5,-62.1044 118.5,-62.1043\"/>\n</g>\n<!-- y&#45;&gt;b -->\n<g id=\"edge9\" class=\"edge\"><title>y&#45;&gt;b</title>\n<path fill=\"none\" stroke=\"black\" d=\"M130.41,-91.1703C141.734,-81.0075 157.309,-67.0304 170.089,-55.5614\"/>\n<polygon fill=\"black\" stroke=\"black\" points=\"172.517,-58.085 177.622,-48.801 167.842,-52.8753 172.517,-58.085\"/>\n</g>\n<!-- top -->\n<g id=\"node8\" class=\"node\"><title>top</title>\n<ellipse fill=\"none\" stroke=\"black\" cx=\"189\" cy=\"-181\" rx=\"27\" ry=\"18\"/>\n<text text-anchor=\"middle\" x=\"189\" y=\"-177.3\" font-family=\"Times,serif\" font-size=\"14.00\">top</text>\n</g>\n<!-- top&#45;&gt;a -->\n<g id=\"edge7\" class=\"edge\"><title>top&#45;&gt;a</title>\n<path fill=\"none\" stroke=\"black\" d=\"M189.948,-162.7C190.411,-154.245 190.98,-143.869 191.5,-134.373\"/>\n<polygon fill=\"black\" stroke=\"black\" points=\"195.006,-134.352 192.059,-124.176 188.017,-133.969 195.006,-134.352\"/>\n</g>\n<!-- top&#45;&gt;y -->\n<g id=\"edge8\" class=\"edge\"><title>top&#45;&gt;y</title>\n<path fill=\"none\" stroke=\"black\" d=\"M170.114,-167.903C164.677,-164.059 158.897,-159.602 154,-155 146.218,-147.687 138.597,-138.812 132.186,-130.692\"/>\n<polygon fill=\"black\" stroke=\"black\" points=\"134.847,-128.41 125.986,-122.6 129.29,-132.667 134.847,-128.41\"/>\n</g>\n</g>\n</svg>\n"
                    }, 
                    "metadata": {}, 
                    "execution_count": 33, 
                    "output_type": "execute_result"
                }
            ]
        }, 
        {
            "source": "wget.download('https://github.com/tuliplab/mds/raw/master/Jupyter/data/gvsample3.gv')\n\nSource.from_file('gvsample3.gv')", 
            "metadata": {}, 
            "execution_count": 34, 
            "cell_type": "code", 
            "outputs": [
                {
                    "data": {
                        "text/plain": "<graphviz.files.Source at 0x7f17601f5080>", 
                        "image/svg+xml": "<?xml version=\"1.0\" encoding=\"UTF-8\" standalone=\"no\"?>\n<!DOCTYPE svg PUBLIC \"-//W3C//DTD SVG 1.1//EN\"\n \"http://www.w3.org/Graphics/SVG/1.1/DTD/svg11.dtd\">\n<!-- Generated by graphviz version 2.30.1 (20150306.0020)\n -->\n<!-- Title: G Pages: 1 -->\n<svg width=\"421pt\" height=\"264pt\"\n viewBox=\"0.00 0.00 421.00 264.00\" xmlns=\"http://www.w3.org/2000/svg\" xmlns:xlink=\"http://www.w3.org/1999/xlink\">\n<g id=\"graph0\" class=\"graph\" transform=\"scale(1 1) rotate(0) translate(4 260)\">\n<title>G</title>\n<polygon fill=\"white\" stroke=\"white\" points=\"-4,5 -4,-260 418,-260 418,5 -4,5\"/>\n<!-- a -->\n<g id=\"node1\" class=\"node\"><title>a</title>\n<polygon fill=\"none\" stroke=\"black\" points=\"200,-210 254.392,-244.5 145.608,-244.5 200,-210\"/>\n<text text-anchor=\"middle\" x=\"200\" y=\"-229.3\" font-family=\"Times,serif\" font-size=\"14.00\">Start</text>\n</g>\n<!-- b -->\n<g id=\"node2\" class=\"node\"><title>b</title>\n<polygon fill=\"none\" stroke=\"black\" points=\"152,-158 0,-158 0,-122 152,-122 152,-158\"/>\n<text text-anchor=\"middle\" x=\"76\" y=\"-136.3\" font-family=\"Times,serif\" font-size=\"14.00\">Working hard in SIT361</text>\n</g>\n<!-- a&#45;&gt;b -->\n<g id=\"edge1\" class=\"edge\"><title>a&#45;&gt;b</title>\n<path fill=\"none\" stroke=\"black\" d=\"M183.789,-220.103C164.528,-205.968 131.945,-182.056 107.633,-164.215\"/>\n<polygon fill=\"black\" stroke=\"black\" points=\"109.547,-161.278 99.4145,-158.183 105.406,-166.921 109.547,-161.278\"/>\n<text text-anchor=\"middle\" x=\"177\" y=\"-180.3\" font-family=\"Times,serif\" font-size=\"14.00\">With Dr Li</text>\n</g>\n<!-- c -->\n<g id=\"node4\" class=\"node\"><title>c</title>\n<polygon fill=\"none\" stroke=\"black\" points=\"413.369,-140 352.684,-158 231.316,-158 170.631,-140 231.316,-122 352.684,-122 413.369,-140\"/>\n<text text-anchor=\"middle\" x=\"292\" y=\"-136.3\" font-family=\"Times,serif\" font-size=\"14.00\">Working hardly in SIT361</text>\n</g>\n<!-- a&#45;&gt;c -->\n<g id=\"edge3\" class=\"edge\"><title>a&#45;&gt;c</title>\n<path fill=\"none\" stroke=\"black\" stroke-dasharray=\"1,5\" d=\"M213.575,-218.573C227.619,-204.682 249.866,-182.676 267.084,-165.645\"/>\n<polygon fill=\"black\" stroke=\"black\" points=\"269.946,-167.737 274.594,-158.217 265.023,-162.761 269.946,-167.737\"/>\n<text text-anchor=\"middle\" x=\"287\" y=\"-180.3\" font-family=\"Times,serif\" font-size=\"14.00\">try yourself</text>\n</g>\n<!-- e -->\n<g id=\"node3\" class=\"node\"><title>e</title>\n<ellipse fill=\"lightblue\" stroke=\"lightblue\" cx=\"76\" cy=\"-35\" rx=\"34.1708\" ry=\"34.394\"/>\n<text text-anchor=\"middle\" x=\"76\" y=\"-31.3\" font-family=\"Times,serif\" font-size=\"14.00\">Happy</text>\n</g>\n<!-- b&#45;&gt;e -->\n<g id=\"edge2\" class=\"edge\"><title>b&#45;&gt;e</title>\n<path fill=\"none\" stroke=\"black\" d=\"M76,-121.992C76,-110.478 76,-94.7083 76,-79.8155\"/>\n<polygon fill=\"black\" stroke=\"black\" points=\"79.5001,-79.7082 76,-69.7082 72.5001,-79.7083 79.5001,-79.7082\"/>\n<text text-anchor=\"middle\" x=\"109\" y=\"-92.3\" font-family=\"Times,serif\" font-size=\"14.00\">Enjoy study</text>\n</g>\n<!-- d -->\n<g id=\"node5\" class=\"node\"><title>d</title>\n<text text-anchor=\"middle\" x=\"292\" y=\"-31.3\" font-family=\"Times,serif\" font-size=\"14.00\">sad</text>\n</g>\n<!-- c&#45;&gt;d -->\n<g id=\"edge4\" class=\"edge\"><title>c&#45;&gt;d</title>\n<path fill=\"none\" stroke=\"red\" d=\"M292,-121.992C292,-106.038 292,-81.9128 292,-63.272\"/>\n<polygon fill=\"red\" stroke=\"red\" points=\"295.5,-63.0336 292,-53.0336 288.5,-63.0337 295.5,-63.0336\"/>\n</g>\n</g>\n</svg>\n"
                    }, 
                    "metadata": {}, 
                    "execution_count": 34, 
                    "output_type": "execute_result"
                }
            ]
        }, 
        {
            "source": "wget.download('https://github.com/tuliplab/mds/raw/master/Jupyter/data/gvsample4.gv')\n\nSource.from_file('gvsample4.gv')", 
            "metadata": {}, 
            "execution_count": 35, 
            "cell_type": "code", 
            "outputs": [
                {
                    "data": {
                        "text/plain": "<graphviz.files.Source at 0x7f17601f5f60>", 
                        "image/svg+xml": "<?xml version=\"1.0\" encoding=\"UTF-8\" standalone=\"no\"?>\n<!DOCTYPE svg PUBLIC \"-//W3C//DTD SVG 1.1//EN\"\n \"http://www.w3.org/Graphics/SVG/1.1/DTD/svg11.dtd\">\n<!-- Generated by graphviz version 2.30.1 (20150306.0020)\n -->\n<!-- Title: G Pages: 1 -->\n<svg width=\"335pt\" height=\"238pt\"\n viewBox=\"0.00 0.00 335.00 238.00\" xmlns=\"http://www.w3.org/2000/svg\" xmlns:xlink=\"http://www.w3.org/1999/xlink\">\n<g id=\"graph0\" class=\"graph\" transform=\"scale(1 1) rotate(0) translate(4 234)\">\n<title>G</title>\n<polygon fill=\"white\" stroke=\"white\" points=\"-4,5 -4,-234 332,-234 332,5 -4,5\"/>\n<!-- xyz -->\n<g id=\"node1\" class=\"node\"><title>xyz</title>\n<ellipse fill=\"slateblue\" stroke=\"slateblue\" cx=\"65\" cy=\"-187\" rx=\"50.3685\" ry=\"42.3529\"/>\n<text text-anchor=\"middle\" x=\"65\" y=\"-193.8\" font-family=\"Palatino Linotype,serif\" font-style=\"italic\" font-size=\"24.00\" fill=\"hotpink\">hello</text>\n<text text-anchor=\"middle\" x=\"65\" y=\"-167.8\" font-family=\"Palatino Linotype,serif\" font-style=\"italic\" font-size=\"24.00\" fill=\"hotpink\">world</text>\n</g>\n<!-- red -->\n<g id=\"node2\" class=\"node\"><title>red</title>\n<ellipse fill=\"red\" stroke=\"red\" cx=\"161\" cy=\"-187\" rx=\"27\" ry=\"18\"/>\n<text text-anchor=\"middle\" x=\"161\" y=\"-183.3\" font-family=\"Times,serif\" font-size=\"14.00\">red</text>\n</g>\n<!-- green -->\n<g id=\"node3\" class=\"node\"><title>green</title>\n<ellipse fill=\"green\" stroke=\"green\" cx=\"121\" cy=\"-90\" rx=\"30.3206\" ry=\"18\"/>\n<text text-anchor=\"middle\" x=\"121\" y=\"-86.3\" font-family=\"Times,serif\" font-size=\"14.00\">green</text>\n</g>\n<!-- red&#45;&gt;green -->\n<g id=\"edge1\" class=\"edge\"><title>red&#45;&gt;green</title>\n<path fill=\"none\" stroke=\"black\" d=\"M154.033,-169.452C147.933,-154.965 138.968,-133.675 131.917,-116.927\"/>\n<polygon fill=\"black\" stroke=\"black\" points=\"135.128,-115.535 128.022,-107.677 128.677,-118.251 135.128,-115.535\"/>\n</g>\n<!-- blue -->\n<g id=\"node4\" class=\"node\"><title>blue</title>\n<ellipse fill=\"blue\" stroke=\"blue\" cx=\"201\" cy=\"-90\" rx=\"27\" ry=\"18\"/>\n<text text-anchor=\"middle\" x=\"201\" y=\"-86.3\" font-family=\"Times,serif\" font-size=\"14.00\">blue</text>\n</g>\n<!-- red&#45;&gt;blue -->\n<g id=\"edge2\" class=\"edge\"><title>red&#45;&gt;blue</title>\n<path fill=\"none\" stroke=\"black\" d=\"M167.967,-169.452C174.067,-154.965 183.032,-133.675 190.083,-116.927\"/>\n<polygon fill=\"black\" stroke=\"black\" points=\"193.323,-118.251 193.978,-107.677 186.872,-115.535 193.323,-118.251\"/>\n</g>\n<!-- yellow -->\n<g id=\"node7\" class=\"node\"><title>yellow</title>\n<ellipse fill=\"yellow\" stroke=\"yellow\" cx=\"34\" cy=\"-18\" rx=\"34.1708\" ry=\"18\"/>\n<text text-anchor=\"middle\" x=\"34\" y=\"-14.3\" font-family=\"Times,serif\" font-size=\"14.00\">yellow</text>\n</g>\n<!-- green&#45;&gt;yellow -->\n<g id=\"edge5\" class=\"edge\"><title>green&#45;&gt;yellow</title>\n<path fill=\"none\" stroke=\"black\" d=\"M103.812,-75.1703C91.31,-65.1115 74.1642,-51.316 59.9934,-39.9142\"/>\n<polygon fill=\"black\" stroke=\"black\" points=\"62.0365,-37.0658 52.0512,-33.524 57.6483,-42.5197 62.0365,-37.0658\"/>\n</g>\n<!-- orange -->\n<g id=\"node8\" class=\"node\"><title>orange</title>\n<ellipse fill=\"orange\" stroke=\"orange\" cx=\"121\" cy=\"-18\" rx=\"34.1708\" ry=\"18\"/>\n<text text-anchor=\"middle\" x=\"121\" y=\"-14.3\" font-family=\"Times,serif\" font-size=\"14.00\">orange</text>\n</g>\n<!-- green&#45;&gt;orange -->\n<g id=\"edge6\" class=\"edge\"><title>green&#45;&gt;orange</title>\n<path fill=\"none\" stroke=\"black\" d=\"M121,-71.6966C121,-63.9827 121,-54.7125 121,-46.1124\"/>\n<polygon fill=\"black\" stroke=\"black\" points=\"124.5,-46.1043 121,-36.1043 117.5,-46.1044 124.5,-46.1043\"/>\n</g>\n<!-- cyan -->\n<g id=\"node5\" class=\"node\"><title>cyan</title>\n<ellipse fill=\"cyan\" stroke=\"cyan\" cx=\"201\" cy=\"-18\" rx=\"26.949\" ry=\"18\"/>\n<text text-anchor=\"middle\" x=\"201\" y=\"-14.3\" font-family=\"Times,serif\" font-size=\"14.00\">cyan</text>\n</g>\n<!-- blue&#45;&gt;cyan -->\n<g id=\"edge3\" class=\"edge\"><title>blue&#45;&gt;cyan</title>\n<path fill=\"none\" stroke=\"black\" d=\"M201,-71.6966C201,-63.9827 201,-54.7125 201,-46.1124\"/>\n<polygon fill=\"black\" stroke=\"black\" points=\"204.5,-46.1043 201,-36.1043 197.5,-46.1044 204.5,-46.1043\"/>\n</g>\n<!-- magenta -->\n<g id=\"node6\" class=\"node\"><title>magenta</title>\n<ellipse fill=\"magenta\" stroke=\"magenta\" cx=\"287\" cy=\"-18\" rx=\"40.4202\" ry=\"18\"/>\n<text text-anchor=\"middle\" x=\"287\" y=\"-14.3\" font-family=\"Times,serif\" font-size=\"14.00\">magenta</text>\n</g>\n<!-- blue&#45;&gt;magenta -->\n<g id=\"edge4\" class=\"edge\"><title>blue&#45;&gt;magenta</title>\n<path fill=\"none\" stroke=\"black\" d=\"M217.582,-75.5033C229.741,-65.6065 246.501,-51.9644 260.507,-40.5644\"/>\n<polygon fill=\"black\" stroke=\"black\" points=\"262.833,-43.1838 268.379,-34.1566 258.414,-37.7549 262.833,-43.1838\"/>\n</g>\n</g>\n</svg>\n"
                    }, 
                    "metadata": {}, 
                    "execution_count": 35, 
                    "output_type": "execute_result"
                }
            ]
        }, 
        {
            "source": "", 
            "metadata": {}, 
            "execution_count": null, 
            "cell_type": "code", 
            "outputs": []
        }, 
        {
            "metadata": {}, 
            "source": "## Examples", 
            "cell_type": "markdown"
        }, 
        {
            "source": "", 
            "metadata": {}, 
            "execution_count": null, 
            "cell_type": "code", 
            "outputs": []
        }, 
        {
            "source": "from graphviz import Source\n\nsrc = Source(\n'digraph G {main->parse -> execute;main->init;main->cleanup;execute -> make_string;execute -> printf;init -> make_string;main -> printf;execute -> compare;}') \n             \nsrc", 
            "metadata": {}, 
            "execution_count": 36, 
            "cell_type": "code", 
            "outputs": [
                {
                    "data": {
                        "text/plain": "<graphviz.files.Source at 0x7f17601f5860>", 
                        "image/svg+xml": "<?xml version=\"1.0\" encoding=\"UTF-8\" standalone=\"no\"?>\n<!DOCTYPE svg PUBLIC \"-//W3C//DTD SVG 1.1//EN\"\n \"http://www.w3.org/Graphics/SVG/1.1/DTD/svg11.dtd\">\n<!-- Generated by graphviz version 2.30.1 (20150306.0020)\n -->\n<!-- Title: G Pages: 1 -->\n<svg width=\"299pt\" height=\"260pt\"\n viewBox=\"0.00 0.00 299.00 260.00\" xmlns=\"http://www.w3.org/2000/svg\" xmlns:xlink=\"http://www.w3.org/1999/xlink\">\n<g id=\"graph0\" class=\"graph\" transform=\"scale(1 1) rotate(0) translate(4 256)\">\n<title>G</title>\n<polygon fill=\"white\" stroke=\"white\" points=\"-4,5 -4,-256 296,-256 296,5 -4,5\"/>\n<!-- main -->\n<g id=\"node1\" class=\"node\"><title>main</title>\n<ellipse fill=\"none\" stroke=\"black\" cx=\"154\" cy=\"-234\" rx=\"28.3955\" ry=\"18\"/>\n<text text-anchor=\"middle\" x=\"154\" y=\"-230.3\" font-family=\"Times,serif\" font-size=\"14.00\">main</text>\n</g>\n<!-- parse -->\n<g id=\"node2\" class=\"node\"><title>parse</title>\n<ellipse fill=\"none\" stroke=\"black\" cx=\"111\" cy=\"-162\" rx=\"29.3722\" ry=\"18\"/>\n<text text-anchor=\"middle\" x=\"111\" y=\"-158.3\" font-family=\"Times,serif\" font-size=\"14.00\">parse</text>\n</g>\n<!-- main&#45;&gt;parse -->\n<g id=\"edge1\" class=\"edge\"><title>main&#45;&gt;parse</title>\n<path fill=\"none\" stroke=\"black\" d=\"M144.027,-216.765C138.763,-208.195 132.189,-197.494 126.296,-187.9\"/>\n<polygon fill=\"black\" stroke=\"black\" points=\"129.136,-185.836 120.919,-179.147 123.171,-189.5 129.136,-185.836\"/>\n</g>\n<!-- init -->\n<g id=\"node4\" class=\"node\"><title>init</title>\n<ellipse fill=\"none\" stroke=\"black\" cx=\"54\" cy=\"-90\" rx=\"27\" ry=\"18\"/>\n<text text-anchor=\"middle\" x=\"54\" y=\"-86.3\" font-family=\"Times,serif\" font-size=\"14.00\">init</text>\n</g>\n<!-- main&#45;&gt;init -->\n<g id=\"edge3\" class=\"edge\"><title>main&#45;&gt;init</title>\n<path fill=\"none\" stroke=\"black\" d=\"M130.423,-223.614C111.937,-215.024 87.0613,-200.516 73,-180 60.5471,-161.831 56.0227,-137.056 54.4844,-118.259\"/>\n<polygon fill=\"black\" stroke=\"black\" points=\"57.9766,-118.022 53.8959,-108.244 50.9887,-118.432 57.9766,-118.022\"/>\n</g>\n<!-- cleanup -->\n<g id=\"node5\" class=\"node\"><title>cleanup</title>\n<ellipse fill=\"none\" stroke=\"black\" cx=\"197\" cy=\"-162\" rx=\"38.0212\" ry=\"18\"/>\n<text text-anchor=\"middle\" x=\"197\" y=\"-158.3\" font-family=\"Times,serif\" font-size=\"14.00\">cleanup</text>\n</g>\n<!-- main&#45;&gt;cleanup -->\n<g id=\"edge4\" class=\"edge\"><title>main&#45;&gt;cleanup</title>\n<path fill=\"none\" stroke=\"black\" d=\"M163.973,-216.765C169.162,-208.317 175.623,-197.799 181.451,-188.312\"/>\n<polygon fill=\"black\" stroke=\"black\" points=\"184.53,-189.986 186.782,-179.633 178.566,-186.322 184.53,-189.986\"/>\n</g>\n<!-- printf -->\n<g id=\"node7\" class=\"node\"><title>printf</title>\n<ellipse fill=\"none\" stroke=\"black\" cx=\"261\" cy=\"-18\" rx=\"30.3206\" ry=\"18\"/>\n<text text-anchor=\"middle\" x=\"261\" y=\"-14.3\" font-family=\"Times,serif\" font-size=\"14.00\">printf</text>\n</g>\n<!-- main&#45;&gt;printf -->\n<g id=\"edge8\" class=\"edge\"><title>main&#45;&gt;printf</title>\n<path fill=\"none\" stroke=\"black\" d=\"M179.106,-225.341C200.151,-217.515 229.083,-203.176 244,-180 270.218,-139.267 268.839,-80.4074 265.139,-46.2901\"/>\n<polygon fill=\"black\" stroke=\"black\" points=\"268.585,-45.6338 263.888,-36.1368 261.637,-46.4898 268.585,-45.6338\"/>\n</g>\n<!-- execute -->\n<g id=\"node3\" class=\"node\"><title>execute</title>\n<ellipse fill=\"none\" stroke=\"black\" cx=\"152\" cy=\"-90\" rx=\"37.5442\" ry=\"18\"/>\n<text text-anchor=\"middle\" x=\"152\" y=\"-86.3\" font-family=\"Times,serif\" font-size=\"14.00\">execute</text>\n</g>\n<!-- parse&#45;&gt;execute -->\n<g id=\"edge2\" class=\"edge\"><title>parse&#45;&gt;execute</title>\n<path fill=\"none\" stroke=\"black\" d=\"M120.509,-144.765C125.457,-136.317 131.618,-125.799 137.174,-116.312\"/>\n<polygon fill=\"black\" stroke=\"black\" points=\"140.224,-118.031 142.258,-107.633 134.183,-114.493 140.224,-118.031\"/>\n</g>\n<!-- make_string -->\n<g id=\"node6\" class=\"node\"><title>make_string</title>\n<ellipse fill=\"none\" stroke=\"black\" cx=\"54\" cy=\"-18\" rx=\"54.3924\" ry=\"18\"/>\n<text text-anchor=\"middle\" x=\"54\" y=\"-14.3\" font-family=\"Times,serif\" font-size=\"14.00\">make_string</text>\n</g>\n<!-- execute&#45;&gt;make_string -->\n<g id=\"edge5\" class=\"edge\"><title>execute&#45;&gt;make_string</title>\n<path fill=\"none\" stroke=\"black\" d=\"M131.694,-74.496C117.976,-64.6973 99.6251,-51.5893 84.2024,-40.5732\"/>\n<polygon fill=\"black\" stroke=\"black\" points=\"86.1553,-37.6669 75.9836,-34.7026 82.0866,-43.3631 86.1553,-37.6669\"/>\n</g>\n<!-- execute&#45;&gt;printf -->\n<g id=\"edge6\" class=\"edge\"><title>execute&#45;&gt;printf</title>\n<path fill=\"none\" stroke=\"black\" d=\"M173.535,-75.1703C190.383,-64.3501 213.965,-49.2061 232.397,-37.3688\"/>\n<polygon fill=\"black\" stroke=\"black\" points=\"234.457,-40.2056 240.98,-31.8569 230.674,-34.3156 234.457,-40.2056\"/>\n</g>\n<!-- compare -->\n<g id=\"node8\" class=\"node\"><title>compare</title>\n<ellipse fill=\"none\" stroke=\"black\" cx=\"168\" cy=\"-18\" rx=\"41.394\" ry=\"18\"/>\n<text text-anchor=\"middle\" x=\"168\" y=\"-14.3\" font-family=\"Times,serif\" font-size=\"14.00\">compare</text>\n</g>\n<!-- execute&#45;&gt;compare -->\n<g id=\"edge9\" class=\"edge\"><title>execute&#45;&gt;compare</title>\n<path fill=\"none\" stroke=\"black\" d=\"M155.873,-72.055C157.655,-64.2609 159.812,-54.8219 161.811,-46.0789\"/>\n<polygon fill=\"black\" stroke=\"black\" points=\"165.235,-46.8038 164.051,-36.2753 158.411,-45.244 165.235,-46.8038\"/>\n</g>\n<!-- init&#45;&gt;make_string -->\n<g id=\"edge7\" class=\"edge\"><title>init&#45;&gt;make_string</title>\n<path fill=\"none\" stroke=\"black\" d=\"M54,-71.6966C54,-63.9827 54,-54.7125 54,-46.1124\"/>\n<polygon fill=\"black\" stroke=\"black\" points=\"57.5001,-46.1043 54,-36.1043 50.5001,-46.1044 57.5001,-46.1043\"/>\n</g>\n</g>\n</svg>\n"
                    }, 
                    "metadata": {}, 
                    "execution_count": 36, 
                    "output_type": "execute_result"
                }
            ]
        }, 
        {
            "source": "#http://www.graphviz.org/content/fsm\n\nfrom graphviz import Digraph\n\nf = Digraph('finite_state_machine', filename='fsm.gv')\nf.attr(rankdir='LR', size='8,5')\n\nf.attr('node', shape='doublecircle')\nf.node('LR_0')\nf.node('LR_3')\nf.node('LR_4')\nf.node('LR_8')\n\nf.attr('node', shape='circle')\nf.edge('LR_0', 'LR_2', label='SS(B)')\nf.edge('LR_0', 'LR_1', label='SS(S)')\nf.edge('LR_1', 'LR_3', label='S($end)')\nf.edge('LR_2', 'LR_6', label='SS(b)')\nf.edge('LR_2', 'LR_5', label='SS(a)')\nf.edge('LR_2', 'LR_4', label='S(A)')\nf.edge('LR_5', 'LR_7', label='S(b)')\nf.edge('LR_5', 'LR_5', label='S(a)')\nf.edge('LR_6', 'LR_6', label='S(b)')\nf.edge('LR_6', 'LR_5', label='S(a)')\nf.edge('LR_7', 'LR_8', label='S(b)')\nf.edge('LR_7', 'LR_5', label='S(a)')\nf.edge('LR_8', 'LR_6', label='S(b)')\nf.edge('LR_8', 'LR_5', label='S(a)')\n\nf", 
            "metadata": {}, 
            "execution_count": 37, 
            "cell_type": "code", 
            "outputs": [
                {
                    "data": {
                        "text/plain": "<graphviz.dot.Digraph at 0x7f1760220400>", 
                        "image/svg+xml": "<?xml version=\"1.0\" encoding=\"UTF-8\" standalone=\"no\"?>\n<!DOCTYPE svg PUBLIC \"-//W3C//DTD SVG 1.1//EN\"\n \"http://www.w3.org/Graphics/SVG/1.1/DTD/svg11.dtd\">\n<!-- Generated by graphviz version 2.30.1 (20150306.0020)\n -->\n<!-- Title: finite_state_machine Pages: 1 -->\n<svg width=\"576pt\" height=\"257pt\"\n viewBox=\"0.00 0.00 576.00 256.61\" xmlns=\"http://www.w3.org/2000/svg\" xmlns:xlink=\"http://www.w3.org/1999/xlink\">\n<g id=\"graph0\" class=\"graph\" transform=\"scale(0.784741 0.784741) rotate(0) translate(4 323)\">\n<title>finite_state_machine</title>\n<polygon fill=\"white\" stroke=\"white\" points=\"-4,5 -4,-323 731,-323 731,5 -4,5\"/>\n<!-- LR_0 -->\n<g id=\"node1\" class=\"node\"><title>LR_0</title>\n<ellipse fill=\"none\" stroke=\"black\" cx=\"35\" cy=\"-113\" rx=\"30.5892\" ry=\"30.5892\"/>\n<ellipse fill=\"none\" stroke=\"black\" cx=\"35\" cy=\"-113\" rx=\"34.5946\" ry=\"34.5946\"/>\n<text text-anchor=\"middle\" x=\"35\" y=\"-109.3\" font-family=\"Times,serif\" font-size=\"14.00\">LR_0</text>\n</g>\n<!-- LR_2 -->\n<g id=\"node5\" class=\"node\"><title>LR_2</title>\n<ellipse fill=\"none\" stroke=\"black\" cx=\"171\" cy=\"-156\" rx=\"30.5947\" ry=\"30.5947\"/>\n<text text-anchor=\"middle\" x=\"171\" y=\"-152.3\" font-family=\"Times,serif\" font-size=\"14.00\">LR_2</text>\n</g>\n<!-- LR_0&#45;&gt;LR_2 -->\n<g id=\"edge1\" class=\"edge\"><title>LR_0&#45;&gt;LR_2</title>\n<path fill=\"none\" stroke=\"black\" d=\"M68.0963,-123.3C87.3926,-129.492 112.048,-137.403 132.273,-143.894\"/>\n<polygon fill=\"black\" stroke=\"black\" points=\"131.212,-147.229 141.803,-146.952 133.351,-140.564 131.212,-147.229\"/>\n<text text-anchor=\"middle\" x=\"105\" y=\"-143.8\" font-family=\"Times,serif\" font-size=\"14.00\">SS(B)</text>\n</g>\n<!-- LR_1 -->\n<g id=\"node6\" class=\"node\"><title>LR_1</title>\n<ellipse fill=\"none\" stroke=\"black\" cx=\"171\" cy=\"-56\" rx=\"30.5947\" ry=\"30.5947\"/>\n<text text-anchor=\"middle\" x=\"171\" y=\"-52.3\" font-family=\"Times,serif\" font-size=\"14.00\">LR_1</text>\n</g>\n<!-- LR_0&#45;&gt;LR_1 -->\n<g id=\"edge2\" class=\"edge\"><title>LR_0&#45;&gt;LR_1</title>\n<path fill=\"none\" stroke=\"black\" d=\"M67.0791,-99.7798C86.8353,-91.376 112.508,-80.4557 133.27,-71.6241\"/>\n<polygon fill=\"black\" stroke=\"black\" points=\"134.89,-74.7386 142.722,-67.6035 132.149,-68.2972 134.89,-74.7386\"/>\n<text text-anchor=\"middle\" x=\"105\" y=\"-93.8\" font-family=\"Times,serif\" font-size=\"14.00\">SS(S)</text>\n</g>\n<!-- LR_3 -->\n<g id=\"node2\" class=\"node\"><title>LR_3</title>\n<ellipse fill=\"none\" stroke=\"black\" cx=\"317\" cy=\"-34\" rx=\"30.5892\" ry=\"30.5892\"/>\n<ellipse fill=\"none\" stroke=\"black\" cx=\"317\" cy=\"-34\" rx=\"34.5946\" ry=\"34.5946\"/>\n<text text-anchor=\"middle\" x=\"317\" y=\"-30.3\" font-family=\"Times,serif\" font-size=\"14.00\">LR_3</text>\n</g>\n<!-- LR_4 -->\n<g id=\"node3\" class=\"node\"><title>LR_4</title>\n<ellipse fill=\"none\" stroke=\"black\" cx=\"317\" cy=\"-121\" rx=\"30.5892\" ry=\"30.5892\"/>\n<ellipse fill=\"none\" stroke=\"black\" cx=\"317\" cy=\"-121\" rx=\"34.5946\" ry=\"34.5946\"/>\n<text text-anchor=\"middle\" x=\"317\" y=\"-117.3\" font-family=\"Times,serif\" font-size=\"14.00\">LR_4</text>\n</g>\n<!-- LR_8 -->\n<g id=\"node4\" class=\"node\"><title>LR_8</title>\n<ellipse fill=\"none\" stroke=\"black\" cx=\"691\" cy=\"-236\" rx=\"30.5892\" ry=\"30.5892\"/>\n<ellipse fill=\"none\" stroke=\"black\" cx=\"691\" cy=\"-236\" rx=\"34.5946\" ry=\"34.5946\"/>\n<text text-anchor=\"middle\" x=\"691\" y=\"-232.3\" font-family=\"Times,serif\" font-size=\"14.00\">LR_8</text>\n</g>\n<!-- LR_6 -->\n<g id=\"node7\" class=\"node\"><title>LR_6</title>\n<ellipse fill=\"none\" stroke=\"black\" cx=\"317\" cy=\"-256\" rx=\"30.5947\" ry=\"30.5947\"/>\n<text text-anchor=\"middle\" x=\"317\" y=\"-252.3\" font-family=\"Times,serif\" font-size=\"14.00\">LR_6</text>\n</g>\n<!-- LR_8&#45;&gt;LR_6 -->\n<g id=\"edge13\" class=\"edge\"><title>LR_8&#45;&gt;LR_6</title>\n<path fill=\"none\" stroke=\"black\" d=\"M656.827,-241.652C614.537,-248.546 539.093,-259.799 474,-264 446.502,-265.775 439.531,-265.169 412,-264 394.112,-263.24 374.362,-261.671 357.601,-260.121\"/>\n<polygon fill=\"black\" stroke=\"black\" points=\"357.881,-256.632 347.594,-259.167 357.217,-263.601 357.881,-256.632\"/>\n<text text-anchor=\"middle\" x=\"504\" y=\"-266.8\" font-family=\"Times,serif\" font-size=\"14.00\">S(b)</text>\n</g>\n<!-- LR_5 -->\n<g id=\"node8\" class=\"node\"><title>LR_5</title>\n<ellipse fill=\"none\" stroke=\"black\" cx=\"443\" cy=\"-192\" rx=\"30.5947\" ry=\"30.5947\"/>\n<text text-anchor=\"middle\" x=\"443\" y=\"-188.3\" font-family=\"Times,serif\" font-size=\"14.00\">LR_5</text>\n</g>\n<!-- LR_8&#45;&gt;LR_5 -->\n<g id=\"edge14\" class=\"edge\"><title>LR_8&#45;&gt;LR_5</title>\n<path fill=\"none\" stroke=\"black\" d=\"M656.654,-230.643C617.249,-224.227 549.737,-212.968 492,-202 489.002,-201.431 485.903,-200.825 482.79,-200.203\"/>\n<polygon fill=\"black\" stroke=\"black\" points=\"483.4,-196.756 472.903,-198.194 482.005,-203.616 483.4,-196.756\"/>\n<text text-anchor=\"middle\" x=\"565\" y=\"-224.8\" font-family=\"Times,serif\" font-size=\"14.00\">S(a)</text>\n</g>\n<!-- LR_2&#45;&gt;LR_6 -->\n<g id=\"edge4\" class=\"edge\"><title>LR_2&#45;&gt;LR_6</title>\n<path fill=\"none\" stroke=\"black\" d=\"M191.151,-178.999C199.431,-188.091 209.599,-198.208 220,-206 238.186,-219.625 260.61,-231.534 279.212,-240.308\"/>\n<polygon fill=\"black\" stroke=\"black\" points=\"278.001,-243.604 288.548,-244.604 280.926,-237.244 278.001,-243.604\"/>\n<text text-anchor=\"middle\" x=\"242\" y=\"-236.8\" font-family=\"Times,serif\" font-size=\"14.00\">SS(b)</text>\n</g>\n<!-- LR_2&#45;&gt;LR_5 -->\n<g id=\"edge5\" class=\"edge\"><title>LR_2&#45;&gt;LR_5</title>\n<path fill=\"none\" stroke=\"black\" d=\"M201.436,-160.364C207.569,-161.253 213.994,-162.17 220,-163 283.805,-171.819 358.029,-181.373 402.447,-187.014\"/>\n<polygon fill=\"black\" stroke=\"black\" points=\"402.174,-190.507 412.535,-188.293 403.055,-183.563 402.174,-190.507\"/>\n<text text-anchor=\"middle\" x=\"317\" y=\"-184.8\" font-family=\"Times,serif\" font-size=\"14.00\">SS(a)</text>\n</g>\n<!-- LR_2&#45;&gt;LR_4 -->\n<g id=\"edge6\" class=\"edge\"><title>LR_2&#45;&gt;LR_4</title>\n<path fill=\"none\" stroke=\"black\" d=\"M200.794,-149.001C221.528,-143.962 249.847,-137.079 273.22,-131.398\"/>\n<polygon fill=\"black\" stroke=\"black\" points=\"274.339,-134.728 283.23,-128.965 272.686,-127.926 274.339,-134.728\"/>\n<text text-anchor=\"middle\" x=\"242\" y=\"-147.8\" font-family=\"Times,serif\" font-size=\"14.00\">S(A)</text>\n</g>\n<!-- LR_1&#45;&gt;LR_3 -->\n<g id=\"edge3\" class=\"edge\"><title>LR_1&#45;&gt;LR_3</title>\n<path fill=\"none\" stroke=\"black\" d=\"M201.488,-51.4949C221.967,-48.3662 249.595,-44.1453 272.582,-40.6333\"/>\n<polygon fill=\"black\" stroke=\"black\" points=\"273.418,-44.0462 282.775,-39.0761 272.361,-37.1265 273.418,-44.0462\"/>\n<text text-anchor=\"middle\" x=\"242\" y=\"-52.8\" font-family=\"Times,serif\" font-size=\"14.00\">S($end)</text>\n</g>\n<!-- LR_6&#45;&gt;LR_6 -->\n<g id=\"edge9\" class=\"edge\"><title>LR_6&#45;&gt;LR_6</title>\n<path fill=\"none\" stroke=\"black\" d=\"M305.047,-284.103C304.516,-294.969 308.5,-304 317,-304 322.578,-304 326.212,-300.111 327.9,-294.366\"/>\n<polygon fill=\"black\" stroke=\"black\" points=\"331.414,-294.408 328.953,-284.103 324.451,-293.694 331.414,-294.408\"/>\n<text text-anchor=\"middle\" x=\"317\" y=\"-307.8\" font-family=\"Times,serif\" font-size=\"14.00\">S(b)</text>\n</g>\n<!-- LR_6&#45;&gt;LR_5 -->\n<g id=\"edge10\" class=\"edge\"><title>LR_6&#45;&gt;LR_5</title>\n<path fill=\"none\" stroke=\"black\" d=\"M344.601,-242.27C362.663,-232.948 386.751,-220.515 406.454,-210.347\"/>\n<polygon fill=\"black\" stroke=\"black\" points=\"408.162,-213.404 415.443,-205.707 404.951,-207.183 408.162,-213.404\"/>\n<text text-anchor=\"middle\" x=\"382\" y=\"-231.8\" font-family=\"Times,serif\" font-size=\"14.00\">S(a)</text>\n</g>\n<!-- LR_7 -->\n<g id=\"node9\" class=\"node\"><title>LR_7</title>\n<ellipse fill=\"none\" stroke=\"black\" cx=\"565\" cy=\"-169\" rx=\"30.5947\" ry=\"30.5947\"/>\n<text text-anchor=\"middle\" x=\"565\" y=\"-165.3\" font-family=\"Times,serif\" font-size=\"14.00\">LR_7</text>\n</g>\n<!-- LR_5&#45;&gt;LR_7 -->\n<g id=\"edge7\" class=\"edge\"><title>LR_5&#45;&gt;LR_7</title>\n<path fill=\"none\" stroke=\"black\" d=\"M473.049,-186.432C488.558,-183.46 507.867,-179.759 524.699,-176.533\"/>\n<polygon fill=\"black\" stroke=\"black\" points=\"525.641,-179.916 534.803,-174.596 524.323,-173.041 525.641,-179.916\"/>\n<text text-anchor=\"middle\" x=\"504\" y=\"-186.8\" font-family=\"Times,serif\" font-size=\"14.00\">S(b)</text>\n</g>\n<!-- LR_5&#45;&gt;LR_5 -->\n<g id=\"edge8\" class=\"edge\"><title>LR_5&#45;&gt;LR_5</title>\n<path fill=\"none\" stroke=\"black\" d=\"M431.775,-220.581C431.407,-231.232 435.148,-240 443,-240 448.153,-240 451.535,-236.224 453.148,-230.618\"/>\n<polygon fill=\"black\" stroke=\"black\" points=\"456.638,-230.898 454.225,-220.581 449.678,-230.15 456.638,-230.898\"/>\n<text text-anchor=\"middle\" x=\"443\" y=\"-243.8\" font-family=\"Times,serif\" font-size=\"14.00\">S(a)</text>\n</g>\n<!-- LR_7&#45;&gt;LR_8 -->\n<g id=\"edge11\" class=\"edge\"><title>LR_7&#45;&gt;LR_8</title>\n<path fill=\"none\" stroke=\"black\" d=\"M592.41,-182.752C606.061,-189.908 622.968,-198.843 638,-207 642.484,-209.433 647.173,-212.007 651.82,-214.575\"/>\n<polygon fill=\"black\" stroke=\"black\" points=\"650.198,-217.678 660.64,-219.471 653.595,-211.558 650.198,-217.678\"/>\n<text text-anchor=\"middle\" x=\"626\" y=\"-210.8\" font-family=\"Times,serif\" font-size=\"14.00\">S(b)</text>\n</g>\n<!-- LR_7&#45;&gt;LR_5 -->\n<g id=\"edge12\" class=\"edge\"><title>LR_7&#45;&gt;LR_5</title>\n<path fill=\"none\" stroke=\"black\" d=\"M535.501,-160.07C522.08,-157.216 505.986,-155.765 492,-160 486.35,-161.711 480.758,-164.33 475.496,-167.348\"/>\n<polygon fill=\"black\" stroke=\"black\" points=\"473.585,-164.415 467,-172.715 477.324,-170.333 473.585,-164.415\"/>\n<text text-anchor=\"middle\" x=\"504\" y=\"-163.8\" font-family=\"Times,serif\" font-size=\"14.00\">S(a)</text>\n</g>\n</g>\n</svg>\n"
                    }, 
                    "metadata": {}, 
                    "execution_count": 37, 
                    "output_type": "execute_result"
                }
            ]
        }, 
        {
            "source": "# http://www.graphviz.org/pdf/dotguide.pdf Figure 20\n\nfrom graphviz import Digraph\n\ng = Digraph('G', filename='cluster_edge.gv')\ng.attr(compound='true')\n\nwith g.subgraph(name='cluster0') as c:\n    c.edges(['ab', 'ac', 'bd', 'cd'])\n\nwith g.subgraph(name='cluster1') as c:\n    c.edges(['eg', 'ef'])\n\ng.edge('b', 'f', lhead='cluster1')\ng.edge('d', 'e')\ng.edge('c', 'g', ltail='cluster0', lhead='cluster1')\ng.edge('c', 'e', ltail='cluster0')\ng.edge('d', 'h')\n\ng", 
            "metadata": {}, 
            "execution_count": 38, 
            "cell_type": "code", 
            "outputs": [
                {
                    "data": {
                        "text/plain": "<graphviz.dot.Digraph at 0x7f1760220358>", 
                        "image/svg+xml": "<?xml version=\"1.0\" encoding=\"UTF-8\" standalone=\"no\"?>\n<!DOCTYPE svg PUBLIC \"-//W3C//DTD SVG 1.1//EN\"\n \"http://www.w3.org/Graphics/SVG/1.1/DTD/svg11.dtd\">\n<!-- Generated by graphviz version 2.30.1 (20150306.0020)\n -->\n<!-- Title: G Pages: 1 -->\n<svg width=\"222pt\" height=\"364pt\"\n viewBox=\"0.00 0.00 222.00 364.00\" xmlns=\"http://www.w3.org/2000/svg\" xmlns:xlink=\"http://www.w3.org/1999/xlink\">\n<g id=\"graph0\" class=\"graph\" transform=\"scale(1 1) rotate(0) translate(4 360)\">\n<title>G</title>\n<polygon fill=\"white\" stroke=\"white\" points=\"-4,5 -4,-360 219,-360 219,5 -4,5\"/>\n<g id=\"clust1\" class=\"cluster\"><title>cluster0</title>\n<polygon fill=\"none\" stroke=\"black\" points=\"64,-152 64,-348 206,-348 206,-152 64,-152\"/>\n</g>\n<g id=\"clust2\" class=\"cluster\"><title>cluster1</title>\n<polygon fill=\"none\" stroke=\"black\" points=\"64,-8 64,-132 206,-132 206,-8 64,-8\"/>\n</g>\n<!-- a -->\n<g id=\"node1\" class=\"node\"><title>a</title>\n<ellipse fill=\"none\" stroke=\"black\" cx=\"135\" cy=\"-322\" rx=\"27\" ry=\"18\"/>\n<text text-anchor=\"middle\" x=\"135\" y=\"-318.3\" font-family=\"Times,serif\" font-size=\"14.00\">a</text>\n</g>\n<!-- b -->\n<g id=\"node2\" class=\"node\"><title>b</title>\n<ellipse fill=\"none\" stroke=\"black\" cx=\"99\" cy=\"-250\" rx=\"27\" ry=\"18\"/>\n<text text-anchor=\"middle\" x=\"99\" y=\"-246.3\" font-family=\"Times,serif\" font-size=\"14.00\">b</text>\n</g>\n<!-- a&#45;&gt;b -->\n<g id=\"edge1\" class=\"edge\"><title>a&#45;&gt;b</title>\n<path fill=\"none\" stroke=\"black\" d=\"M126.65,-304.765C122.288,-296.283 116.853,-285.714 111.959,-276.197\"/>\n<polygon fill=\"black\" stroke=\"black\" points=\"114.99,-274.439 107.304,-267.147 108.765,-277.641 114.99,-274.439\"/>\n</g>\n<!-- c -->\n<g id=\"node3\" class=\"node\"><title>c</title>\n<ellipse fill=\"none\" stroke=\"black\" cx=\"171\" cy=\"-250\" rx=\"27\" ry=\"18\"/>\n<text text-anchor=\"middle\" x=\"171\" y=\"-246.3\" font-family=\"Times,serif\" font-size=\"14.00\">c</text>\n</g>\n<!-- a&#45;&gt;c -->\n<g id=\"edge2\" class=\"edge\"><title>a&#45;&gt;c</title>\n<path fill=\"none\" stroke=\"black\" d=\"M143.35,-304.765C147.712,-296.283 153.147,-285.714 158.041,-276.197\"/>\n<polygon fill=\"black\" stroke=\"black\" points=\"161.235,-277.641 162.696,-267.147 155.01,-274.439 161.235,-277.641\"/>\n</g>\n<!-- d -->\n<g id=\"node4\" class=\"node\"><title>d</title>\n<ellipse fill=\"none\" stroke=\"black\" cx=\"99\" cy=\"-178\" rx=\"27\" ry=\"18\"/>\n<text text-anchor=\"middle\" x=\"99\" y=\"-174.3\" font-family=\"Times,serif\" font-size=\"14.00\">d</text>\n</g>\n<!-- b&#45;&gt;d -->\n<g id=\"edge3\" class=\"edge\"><title>b&#45;&gt;d</title>\n<path fill=\"none\" stroke=\"black\" d=\"M99,-231.697C99,-223.983 99,-214.712 99,-206.112\"/>\n<polygon fill=\"black\" stroke=\"black\" points=\"102.5,-206.104 99,-196.104 95.5001,-206.104 102.5,-206.104\"/>\n</g>\n<!-- f -->\n<g id=\"node7\" class=\"node\"><title>f</title>\n<ellipse fill=\"none\" stroke=\"black\" cx=\"99\" cy=\"-34\" rx=\"27\" ry=\"18\"/>\n<text text-anchor=\"middle\" x=\"99\" y=\"-30.3\" font-family=\"Times,serif\" font-size=\"14.00\">f</text>\n</g>\n<!-- b&#45;&gt;f -->\n<g id=\"edge7\" class=\"edge\"><title>b&#45;&gt;f</title>\n<path fill=\"none\" stroke=\"black\" d=\"M112.75,-234.069C120.961,-224.1 130.619,-210.247 135,-196 142.052,-173.066 145.58,-157.538 145.581,-142.011\"/>\n<polygon fill=\"black\" stroke=\"black\" points=\"149.063,-141.547 145.075,-131.731 142.071,-141.891 149.063,-141.547\"/>\n</g>\n<!-- c&#45;&gt;d -->\n<g id=\"edge4\" class=\"edge\"><title>c&#45;&gt;d</title>\n<path fill=\"none\" stroke=\"black\" d=\"M156.43,-234.834C146.25,-224.938 132.476,-211.546 120.969,-200.359\"/>\n<polygon fill=\"black\" stroke=\"black\" points=\"123.405,-197.846 113.796,-193.385 118.526,-202.865 123.405,-197.846\"/>\n</g>\n<!-- g -->\n<g id=\"node6\" class=\"node\"><title>g</title>\n<ellipse fill=\"none\" stroke=\"black\" cx=\"171\" cy=\"-34\" rx=\"27\" ry=\"18\"/>\n<text text-anchor=\"middle\" x=\"171\" y=\"-30.3\" font-family=\"Times,serif\" font-size=\"14.00\">g</text>\n</g>\n<!-- c&#45;&gt;g -->\n<g id=\"edge9\" class=\"edge\"><title>c&#45;&gt;g</title>\n<path fill=\"none\" stroke=\"black\" d=\"M171,-152.011C171,-148.759 171,-145.494 171,-142.23\"/>\n<polygon fill=\"black\" stroke=\"black\" points=\"174.5,-141.93 171,-131.93 167.5,-141.93 174.5,-141.93\"/>\n</g>\n<!-- e -->\n<g id=\"node5\" class=\"node\"><title>e</title>\n<ellipse fill=\"none\" stroke=\"black\" cx=\"99\" cy=\"-106\" rx=\"27\" ry=\"18\"/>\n<text text-anchor=\"middle\" x=\"99\" y=\"-102.3\" font-family=\"Times,serif\" font-size=\"14.00\">e</text>\n</g>\n<!-- c&#45;&gt;e -->\n<g id=\"edge10\" class=\"edge\"><title>c&#45;&gt;e</title>\n<path fill=\"none\" stroke=\"black\" d=\"M135,-152C130.703,-144.409 125.157,-136.769 119.712,-129.993\"/>\n<polygon fill=\"black\" stroke=\"black\" points=\"122.073,-127.362 112.969,-121.943 116.707,-131.857 122.073,-127.362\"/>\n</g>\n<!-- d&#45;&gt;e -->\n<g id=\"edge8\" class=\"edge\"><title>d&#45;&gt;e</title>\n<path fill=\"none\" stroke=\"black\" d=\"M99,-159.697C99,-151.983 99,-142.712 99,-134.112\"/>\n<polygon fill=\"black\" stroke=\"black\" points=\"102.5,-134.104 99,-124.104 95.5001,-134.104 102.5,-134.104\"/>\n</g>\n<!-- h -->\n<g id=\"node8\" class=\"node\"><title>h</title>\n<ellipse fill=\"none\" stroke=\"black\" cx=\"27\" cy=\"-106\" rx=\"27\" ry=\"18\"/>\n<text text-anchor=\"middle\" x=\"27\" y=\"-102.3\" font-family=\"Times,serif\" font-size=\"14.00\">h</text>\n</g>\n<!-- d&#45;&gt;h -->\n<g id=\"edge11\" class=\"edge\"><title>d&#45;&gt;h</title>\n<path fill=\"none\" stroke=\"black\" d=\"M84.4297,-162.834C74.2501,-152.938 60.4761,-139.546 48.9694,-128.359\"/>\n<polygon fill=\"black\" stroke=\"black\" points=\"51.4055,-125.846 41.7957,-121.385 46.5259,-130.865 51.4055,-125.846\"/>\n</g>\n<!-- e&#45;&gt;g -->\n<g id=\"edge5\" class=\"edge\"><title>e&#45;&gt;g</title>\n<path fill=\"none\" stroke=\"black\" d=\"M113.57,-90.8345C123.75,-80.9376 137.524,-67.5462 149.031,-56.3591\"/>\n<polygon fill=\"black\" stroke=\"black\" points=\"151.474,-58.865 156.204,-49.3847 146.595,-53.8461 151.474,-58.865\"/>\n</g>\n<!-- e&#45;&gt;f -->\n<g id=\"edge6\" class=\"edge\"><title>e&#45;&gt;f</title>\n<path fill=\"none\" stroke=\"black\" d=\"M99,-87.6966C99,-79.9827 99,-70.7125 99,-62.1124\"/>\n<polygon fill=\"black\" stroke=\"black\" points=\"102.5,-62.1043 99,-52.1043 95.5001,-62.1044 102.5,-62.1043\"/>\n</g>\n</g>\n</svg>\n"
                    }, 
                    "metadata": {}, 
                    "execution_count": 38, 
                    "output_type": "execute_result"
                }
            ]
        }, 
        {
            "source": "#!/usr/bin/env python\n# unix.py - http://www.graphviz.org/content/unix\n\nfrom graphviz import Digraph\n\nu = Digraph('unix', filename='unix.gv')\nu.attr(size='6,6')\nu.node_attr.update(color='lightblue2', style='filled')\n\nu.edge('5th Edition', '6th Edition')\nu.edge('5th Edition', 'PWB 1.0')\nu.edge('6th Edition', 'LSX')\nu.edge('6th Edition', '1 BSD')\nu.edge('6th Edition', 'Mini Unix')\nu.edge('6th Edition', 'Wollongong')\nu.edge('6th Edition', 'Interdata')\nu.edge('Interdata', 'Unix/TS 3.0')\nu.edge('Interdata', 'PWB 2.0')\nu.edge('Interdata', '7th Edition')\nu.edge('7th Edition', '8th Edition')\nu.edge('7th Edition', '32V')\nu.edge('7th Edition', 'V7M')\nu.edge('7th Edition', 'Ultrix-11')\nu.edge('7th Edition', 'Xenix')\nu.edge('7th Edition', 'UniPlus+')\nu.edge('V7M', 'Ultrix-11')\nu.edge('8th Edition', '9th Edition')\nu.edge('1 BSD', '2 BSD')\nu.edge('2 BSD', '2.8 BSD')\nu.edge('2.8 BSD', 'Ultrix-11')\nu.edge('2.8 BSD', '2.9 BSD')\nu.edge('32V', '3 BSD')\nu.edge('3 BSD', '4 BSD')\nu.edge('4 BSD', '4.1 BSD')\nu.edge('4.1 BSD', '4.2 BSD')\nu.edge('4.1 BSD', '2.8 BSD')\nu.edge('4.1 BSD', '8th Edition')\nu.edge('4.2 BSD', '4.3 BSD')\nu.edge('4.2 BSD', 'Ultrix-32')\nu.edge('PWB 1.0', 'PWB 1.2')\nu.edge('PWB 1.0', 'USG 1.0')\nu.edge('PWB 1.2', 'PWB 2.0')\nu.edge('USG 1.0', 'CB Unix 1')\nu.edge('USG 1.0', 'USG 2.0')\nu.edge('CB Unix 1', 'CB Unix 2')\nu.edge('CB Unix 2', 'CB Unix 3')\nu.edge('CB Unix 3', 'Unix/TS++')\nu.edge('CB Unix 3', 'PDP-11 Sys V')\nu.edge('USG 2.0', 'USG 3.0')\nu.edge('USG 3.0', 'Unix/TS 3.0')\nu.edge('PWB 2.0', 'Unix/TS 3.0')\nu.edge('Unix/TS 1.0', 'Unix/TS 3.0')\nu.edge('Unix/TS 3.0', 'TS 4.0')\nu.edge('Unix/TS++', 'TS 4.0')\nu.edge('CB Unix 3', 'TS 4.0')\nu.edge('TS 4.0', 'System V.0')\nu.edge('System V.0', 'System V.2')\nu.edge('System V.2', 'System V.3')\n\nu", 
            "metadata": {}, 
            "execution_count": 39, 
            "cell_type": "code", 
            "outputs": [
                {
                    "data": {
                        "text/plain": "<graphviz.dot.Digraph at 0x7f1760220240>", 
                        "image/svg+xml": "<?xml version=\"1.0\" encoding=\"UTF-8\" standalone=\"no\"?>\n<!DOCTYPE svg PUBLIC \"-//W3C//DTD SVG 1.1//EN\"\n \"http://www.w3.org/Graphics/SVG/1.1/DTD/svg11.dtd\">\n<!-- Generated by graphviz version 2.30.1 (20150306.0020)\n -->\n<!-- Title: unix Pages: 1 -->\n<svg width=\"432pt\" height=\"346pt\"\n viewBox=\"0.00 0.00 432.00 345.96\" xmlns=\"http://www.w3.org/2000/svg\" xmlns:xlink=\"http://www.w3.org/1999/xlink\">\n<g id=\"graph0\" class=\"graph\" transform=\"scale(0.45283 0.45283) rotate(0) translate(4 760)\">\n<title>unix</title>\n<polygon fill=\"white\" stroke=\"white\" points=\"-4,5 -4,-760 951,-760 951,5 -4,5\"/>\n<!-- 5th Edition -->\n<g id=\"node1\" class=\"node\"><title>5th Edition</title>\n<ellipse fill=\"#b2dfee\" stroke=\"#b2dfee\" cx=\"581\" cy=\"-738\" rx=\"50.0684\" ry=\"18\"/>\n<text text-anchor=\"middle\" x=\"581\" y=\"-734.3\" font-family=\"Times,serif\" font-size=\"14.00\">5th Edition</text>\n</g>\n<!-- 6th Edition -->\n<g id=\"node2\" class=\"node\"><title>6th Edition</title>\n<ellipse fill=\"#b2dfee\" stroke=\"#b2dfee\" cx=\"426\" cy=\"-666\" rx=\"50.0684\" ry=\"18\"/>\n<text text-anchor=\"middle\" x=\"426\" y=\"-662.3\" font-family=\"Times,serif\" font-size=\"14.00\">6th Edition</text>\n</g>\n<!-- 5th Edition&#45;&gt;6th Edition -->\n<g id=\"edge1\" class=\"edge\"><title>5th Edition&#45;&gt;6th Edition</title>\n<path fill=\"none\" stroke=\"black\" d=\"M551.114,-723.503C526.748,-712.499 492.129,-696.865 465.481,-684.83\"/>\n<polygon fill=\"black\" stroke=\"black\" points=\"466.612,-681.501 456.058,-680.575 463.731,-687.88 466.612,-681.501\"/>\n</g>\n<!-- PWB 1.0 -->\n<g id=\"node3\" class=\"node\"><title>PWB 1.0</title>\n<ellipse fill=\"#b2dfee\" stroke=\"#b2dfee\" cx=\"677\" cy=\"-666\" rx=\"44.2946\" ry=\"18\"/>\n<text text-anchor=\"middle\" x=\"677\" y=\"-662.3\" font-family=\"Times,serif\" font-size=\"14.00\">PWB 1.0</text>\n</g>\n<!-- 5th Edition&#45;&gt;PWB 1.0 -->\n<g id=\"edge2\" class=\"edge\"><title>5th Edition&#45;&gt;PWB 1.0</title>\n<path fill=\"none\" stroke=\"black\" d=\"M602.306,-721.465C615.789,-711.633 633.393,-698.797 648.124,-688.055\"/>\n<polygon fill=\"black\" stroke=\"black\" points=\"650.395,-690.731 656.413,-682.011 646.271,-685.075 650.395,-690.731\"/>\n</g>\n<!-- LSX -->\n<g id=\"node4\" class=\"node\"><title>LSX</title>\n<ellipse fill=\"#b2dfee\" stroke=\"#b2dfee\" cx=\"588\" cy=\"-594\" rx=\"26.949\" ry=\"18\"/>\n<text text-anchor=\"middle\" x=\"588\" y=\"-590.3\" font-family=\"Times,serif\" font-size=\"14.00\">LSX</text>\n</g>\n<!-- 6th Edition&#45;&gt;LSX -->\n<g id=\"edge3\" class=\"edge\"><title>6th Edition&#45;&gt;LSX</title>\n<path fill=\"none\" stroke=\"black\" d=\"M457.447,-651.97C482.792,-641.396 519.303,-625.998 551,-612 552.843,-611.186 554.734,-610.343 556.64,-609.487\"/>\n<polygon fill=\"black\" stroke=\"black\" points=\"558.477,-612.496 566.136,-605.176 555.584,-606.122 558.477,-612.496\"/>\n</g>\n<!-- 1 BSD -->\n<g id=\"node5\" class=\"node\"><title>1 BSD</title>\n<ellipse fill=\"#b2dfee\" stroke=\"#b2dfee\" cx=\"126\" cy=\"-594\" rx=\"34.1708\" ry=\"18\"/>\n<text text-anchor=\"middle\" x=\"126\" y=\"-590.3\" font-family=\"Times,serif\" font-size=\"14.00\">1 BSD</text>\n</g>\n<!-- 6th Edition&#45;&gt;1 BSD -->\n<g id=\"edge4\" class=\"edge\"><title>6th Edition&#45;&gt;1 BSD</title>\n<path fill=\"none\" stroke=\"black\" d=\"M385.228,-655.487C327.798,-642.086 223.711,-617.799 166.454,-604.439\"/>\n<polygon fill=\"black\" stroke=\"black\" points=\"167.201,-601.02 156.667,-602.156 165.61,-607.836 167.201,-601.02\"/>\n</g>\n<!-- Mini Unix -->\n<g id=\"node6\" class=\"node\"><title>Mini Unix</title>\n<ellipse fill=\"#b2dfee\" stroke=\"#b2dfee\" cx=\"366\" cy=\"-594\" rx=\"48.1437\" ry=\"18\"/>\n<text text-anchor=\"middle\" x=\"366\" y=\"-590.3\" font-family=\"Times,serif\" font-size=\"14.00\">Mini Unix</text>\n</g>\n<!-- 6th Edition&#45;&gt;Mini Unix -->\n<g id=\"edge5\" class=\"edge\"><title>6th Edition&#45;&gt;Mini Unix</title>\n<path fill=\"none\" stroke=\"black\" d=\"M411.781,-648.411C404.309,-639.693 395.01,-628.845 386.749,-619.208\"/>\n<polygon fill=\"black\" stroke=\"black\" points=\"389.282,-616.785 380.117,-611.47 383.968,-621.34 389.282,-616.785\"/>\n</g>\n<!-- Wollongong -->\n<g id=\"node7\" class=\"node\"><title>Wollongong</title>\n<ellipse fill=\"#b2dfee\" stroke=\"#b2dfee\" cx=\"487\" cy=\"-594\" rx=\"55.3682\" ry=\"18\"/>\n<text text-anchor=\"middle\" x=\"487\" y=\"-590.3\" font-family=\"Times,serif\" font-size=\"14.00\">Wollongong</text>\n</g>\n<!-- 6th Edition&#45;&gt;Wollongong -->\n<g id=\"edge6\" class=\"edge\"><title>6th Edition&#45;&gt;Wollongong</title>\n<path fill=\"none\" stroke=\"black\" d=\"M440.456,-648.411C448.053,-639.693 457.506,-628.845 465.905,-619.208\"/>\n<polygon fill=\"black\" stroke=\"black\" points=\"468.716,-621.309 472.648,-611.47 463.439,-616.71 468.716,-621.309\"/>\n</g>\n<!-- Interdata -->\n<g id=\"node8\" class=\"node\"><title>Interdata</title>\n<ellipse fill=\"#b2dfee\" stroke=\"#b2dfee\" cx=\"258\" cy=\"-594\" rx=\"42.3701\" ry=\"18\"/>\n<text text-anchor=\"middle\" x=\"258\" y=\"-590.3\" font-family=\"Times,serif\" font-size=\"14.00\">Interdata</text>\n</g>\n<!-- 6th Edition&#45;&gt;Interdata -->\n<g id=\"edge7\" class=\"edge\"><title>6th Edition&#45;&gt;Interdata</title>\n<path fill=\"none\" stroke=\"black\" d=\"M394.4,-651.834C366.732,-640.305 326.435,-623.515 296.812,-611.172\"/>\n<polygon fill=\"black\" stroke=\"black\" points=\"297.786,-607.786 287.209,-607.171 295.094,-614.248 297.786,-607.786\"/>\n</g>\n<!-- PWB 1.2 -->\n<g id=\"node28\" class=\"node\"><title>PWB 1.2</title>\n<ellipse fill=\"#b2dfee\" stroke=\"#b2dfee\" cx=\"677\" cy=\"-594\" rx=\"44.2946\" ry=\"18\"/>\n<text text-anchor=\"middle\" x=\"677\" y=\"-590.3\" font-family=\"Times,serif\" font-size=\"14.00\">PWB 1.2</text>\n</g>\n<!-- PWB 1.0&#45;&gt;PWB 1.2 -->\n<g id=\"edge31\" class=\"edge\"><title>PWB 1.0&#45;&gt;PWB 1.2</title>\n<path fill=\"none\" stroke=\"black\" d=\"M677,-647.697C677,-639.983 677,-630.712 677,-622.112\"/>\n<polygon fill=\"black\" stroke=\"black\" points=\"680.5,-622.104 677,-612.104 673.5,-622.104 680.5,-622.104\"/>\n</g>\n<!-- USG 1.0 -->\n<g id=\"node29\" class=\"node\"><title>USG 1.0</title>\n<ellipse fill=\"#b2dfee\" stroke=\"#b2dfee\" cx=\"781\" cy=\"-594\" rx=\"42.3701\" ry=\"18\"/>\n<text text-anchor=\"middle\" x=\"781\" y=\"-590.3\" font-family=\"Times,serif\" font-size=\"14.00\">USG 1.0</text>\n</g>\n<!-- PWB 1.0&#45;&gt;USG 1.0 -->\n<g id=\"edge32\" class=\"edge\"><title>PWB 1.0&#45;&gt;USG 1.0</title>\n<path fill=\"none\" stroke=\"black\" d=\"M698.802,-650.326C713.917,-640.152 734.241,-626.472 750.898,-615.261\"/>\n<polygon fill=\"black\" stroke=\"black\" points=\"752.885,-618.142 759.227,-609.655 748.977,-612.335 752.885,-618.142\"/>\n</g>\n<!-- 2 BSD -->\n<g id=\"node19\" class=\"node\"><title>2 BSD</title>\n<ellipse fill=\"#b2dfee\" stroke=\"#b2dfee\" cx=\"89\" cy=\"-234\" rx=\"34.1708\" ry=\"18\"/>\n<text text-anchor=\"middle\" x=\"89\" y=\"-230.3\" font-family=\"Times,serif\" font-size=\"14.00\">2 BSD</text>\n</g>\n<!-- 1 BSD&#45;&gt;2 BSD -->\n<g id=\"edge19\" class=\"edge\"><title>1 BSD&#45;&gt;2 BSD</title>\n<path fill=\"none\" stroke=\"black\" d=\"M121.061,-576.12C113.775,-549.687 101,-496.808 101,-451 101,-451 101,-451 101,-377 101,-336.853 96.1786,-290.548 92.648,-262.022\"/>\n<polygon fill=\"black\" stroke=\"black\" points=\"96.1081,-261.487 91.3708,-252.01 89.1644,-262.373 96.1081,-261.487\"/>\n</g>\n<!-- Unix/TS 3.0 -->\n<g id=\"node9\" class=\"node\"><title>Unix/TS 3.0</title>\n<ellipse fill=\"#b2dfee\" stroke=\"#b2dfee\" cx=\"616\" cy=\"-378\" rx=\"54.3924\" ry=\"18\"/>\n<text text-anchor=\"middle\" x=\"616\" y=\"-374.3\" font-family=\"Times,serif\" font-size=\"14.00\">Unix/TS 3.0</text>\n</g>\n<!-- Interdata&#45;&gt;Unix/TS 3.0 -->\n<g id=\"edge8\" class=\"edge\"><title>Interdata&#45;&gt;Unix/TS 3.0</title>\n<path fill=\"none\" stroke=\"black\" d=\"M281.489,-578.959C343.1,-542.13 509.559,-442.627 581.788,-399.451\"/>\n<polygon fill=\"black\" stroke=\"black\" points=\"583.735,-402.365 590.523,-394.229 580.143,-396.356 583.735,-402.365\"/>\n</g>\n<!-- PWB 2.0 -->\n<g id=\"node10\" class=\"node\"><title>PWB 2.0</title>\n<ellipse fill=\"#b2dfee\" stroke=\"#b2dfee\" cx=\"560\" cy=\"-522\" rx=\"44.2946\" ry=\"18\"/>\n<text text-anchor=\"middle\" x=\"560\" y=\"-518.3\" font-family=\"Times,serif\" font-size=\"14.00\">PWB 2.0</text>\n</g>\n<!-- Interdata&#45;&gt;PWB 2.0 -->\n<g id=\"edge9\" class=\"edge\"><title>Interdata&#45;&gt;PWB 2.0</title>\n<path fill=\"none\" stroke=\"black\" d=\"M289.356,-581.797C295.805,-579.706 302.585,-577.659 309,-576 393.478,-554.152 417.136,-560.297 502,-540 506.666,-538.884 511.515,-537.625 516.333,-536.308\"/>\n<polygon fill=\"black\" stroke=\"black\" points=\"517.434,-539.634 526.111,-533.555 515.536,-532.897 517.434,-539.634\"/>\n</g>\n<!-- 7th Edition -->\n<g id=\"node11\" class=\"node\"><title>7th Edition</title>\n<ellipse fill=\"#b2dfee\" stroke=\"#b2dfee\" cx=\"258\" cy=\"-522\" rx=\"50.0684\" ry=\"18\"/>\n<text text-anchor=\"middle\" x=\"258\" y=\"-518.3\" font-family=\"Times,serif\" font-size=\"14.00\">7th Edition</text>\n</g>\n<!-- Interdata&#45;&gt;7th Edition -->\n<g id=\"edge10\" class=\"edge\"><title>Interdata&#45;&gt;7th Edition</title>\n<path fill=\"none\" stroke=\"black\" d=\"M258,-575.697C258,-567.983 258,-558.712 258,-550.112\"/>\n<polygon fill=\"black\" stroke=\"black\" points=\"261.5,-550.104 258,-540.104 254.5,-550.104 261.5,-550.104\"/>\n</g>\n<!-- TS 4.0 -->\n<g id=\"node38\" class=\"node\"><title>TS 4.0</title>\n<ellipse fill=\"#b2dfee\" stroke=\"#b2dfee\" cx=\"672\" cy=\"-234\" rx=\"34.1708\" ry=\"18\"/>\n<text text-anchor=\"middle\" x=\"672\" y=\"-230.3\" font-family=\"Times,serif\" font-size=\"14.00\">TS 4.0</text>\n</g>\n<!-- Unix/TS 3.0&#45;&gt;TS 4.0 -->\n<g id=\"edge44\" class=\"edge\"><title>Unix/TS 3.0&#45;&gt;TS 4.0</title>\n<path fill=\"none\" stroke=\"black\" d=\"M622.755,-359.871C632.435,-335.325 650.334,-289.938 661.68,-261.17\"/>\n<polygon fill=\"black\" stroke=\"black\" points=\"664.982,-262.335 665.395,-251.748 658.47,-259.767 664.982,-262.335\"/>\n</g>\n<!-- PWB 2.0&#45;&gt;Unix/TS 3.0 -->\n<g id=\"edge42\" class=\"edge\"><title>PWB 2.0&#45;&gt;Unix/TS 3.0</title>\n<path fill=\"none\" stroke=\"black\" d=\"M557.543,-503.793C555.657,-485.247 554.857,-455.265 565,-432 569.973,-420.593 578.551,-410.19 587.268,-401.68\"/>\n<polygon fill=\"black\" stroke=\"black\" points=\"589.866,-404.046 594.877,-394.711 585.139,-398.884 589.866,-404.046\"/>\n</g>\n<!-- 8th Edition -->\n<g id=\"node12\" class=\"node\"><title>8th Edition</title>\n<ellipse fill=\"#b2dfee\" stroke=\"#b2dfee\" cx=\"460\" cy=\"-162\" rx=\"50.0684\" ry=\"18\"/>\n<text text-anchor=\"middle\" x=\"460\" y=\"-158.3\" font-family=\"Times,serif\" font-size=\"14.00\">8th Edition</text>\n</g>\n<!-- 7th Edition&#45;&gt;8th Edition -->\n<g id=\"edge11\" class=\"edge\"><title>7th Edition&#45;&gt;8th Edition</title>\n<path fill=\"none\" stroke=\"black\" d=\"M301.401,-512.912C346.683,-503.599 413.489,-487.104 431,-468 458.33,-438.184 450,-419.447 450,-379 450,-379 450,-379 450,-305 450,-264.897 454.018,-218.58 456.96,-190.04\"/>\n<polygon fill=\"black\" stroke=\"black\" points=\"460.448,-190.336 458.024,-180.022 453.487,-189.596 460.448,-190.336\"/>\n</g>\n<!-- 32V -->\n<g id=\"node13\" class=\"node\"><title>32V</title>\n<ellipse fill=\"#b2dfee\" stroke=\"#b2dfee\" cx=\"395\" cy=\"-450\" rx=\"27\" ry=\"18\"/>\n<text text-anchor=\"middle\" x=\"395\" y=\"-446.3\" font-family=\"Times,serif\" font-size=\"14.00\">32V</text>\n</g>\n<!-- 7th Edition&#45;&gt;32V -->\n<g id=\"edge12\" class=\"edge\"><title>7th Edition&#45;&gt;32V</title>\n<path fill=\"none\" stroke=\"black\" d=\"M285.724,-506.834C308.676,-495.107 341.231,-478.473 364.833,-466.414\"/>\n<polygon fill=\"black\" stroke=\"black\" points=\"366.717,-469.382 374.03,-461.715 363.532,-463.148 366.717,-469.382\"/>\n</g>\n<!-- V7M -->\n<g id=\"node14\" class=\"node\"><title>V7M</title>\n<ellipse fill=\"#b2dfee\" stroke=\"#b2dfee\" cx=\"29\" cy=\"-378\" rx=\"29.3479\" ry=\"18\"/>\n<text text-anchor=\"middle\" x=\"29\" y=\"-374.3\" font-family=\"Times,serif\" font-size=\"14.00\">V7M</text>\n</g>\n<!-- 7th Edition&#45;&gt;V7M -->\n<g id=\"edge13\" class=\"edge\"><title>7th Edition&#45;&gt;V7M</title>\n<path fill=\"none\" stroke=\"black\" d=\"M223.628,-508.874C198.699,-499.391 164.648,-484.991 137,-468 105.062,-448.373 72.3922,-420.076 51.4734,-400.689\"/>\n<polygon fill=\"black\" stroke=\"black\" points=\"53.7452,-398.021 44.0575,-393.731 48.9558,-403.126 53.7452,-398.021\"/>\n</g>\n<!-- Ultrix&#45;11 -->\n<g id=\"node15\" class=\"node\"><title>Ultrix&#45;11</title>\n<ellipse fill=\"#b2dfee\" stroke=\"#b2dfee\" cx=\"118\" cy=\"-90\" rx=\"43.319\" ry=\"18\"/>\n<text text-anchor=\"middle\" x=\"118\" y=\"-86.3\" font-family=\"Times,serif\" font-size=\"14.00\">Ultrix&#45;11</text>\n</g>\n<!-- 7th Edition&#45;&gt;Ultrix&#45;11 -->\n<g id=\"edge14\" class=\"edge\"><title>7th Edition&#45;&gt;Ultrix&#45;11</title>\n<path fill=\"none\" stroke=\"black\" d=\"M224.379,-508.64C205.599,-500.043 183.359,-486.731 170,-468 146.515,-435.07 151,-419.447 151,-379 151,-379 151,-379 151,-233 151,-191.974 137.77,-145.972 128.064,-117.743\"/>\n<polygon fill=\"black\" stroke=\"black\" points=\"131.317,-116.446 124.678,-108.189 124.719,-118.784 131.317,-116.446\"/>\n</g>\n<!-- Xenix -->\n<g id=\"node16\" class=\"node\"><title>Xenix</title>\n<ellipse fill=\"#b2dfee\" stroke=\"#b2dfee\" cx=\"211\" cy=\"-450\" rx=\"32.2457\" ry=\"18\"/>\n<text text-anchor=\"middle\" x=\"211\" y=\"-446.3\" font-family=\"Times,serif\" font-size=\"14.00\">Xenix</text>\n</g>\n<!-- 7th Edition&#45;&gt;Xenix -->\n<g id=\"edge15\" class=\"edge\"><title>7th Edition&#45;&gt;Xenix</title>\n<path fill=\"none\" stroke=\"black\" d=\"M246.862,-504.411C241.042,-495.744 233.809,-484.971 227.366,-475.375\"/>\n<polygon fill=\"black\" stroke=\"black\" points=\"230.215,-473.339 221.735,-466.988 224.403,-477.241 230.215,-473.339\"/>\n</g>\n<!-- UniPlus+ -->\n<g id=\"node17\" class=\"node\"><title>UniPlus+</title>\n<ellipse fill=\"#b2dfee\" stroke=\"#b2dfee\" cx=\"306\" cy=\"-450\" rx=\"44.2946\" ry=\"18\"/>\n<text text-anchor=\"middle\" x=\"306\" y=\"-446.3\" font-family=\"Times,serif\" font-size=\"14.00\">UniPlus+</text>\n</g>\n<!-- 7th Edition&#45;&gt;UniPlus+ -->\n<g id=\"edge16\" class=\"edge\"><title>7th Edition&#45;&gt;UniPlus+</title>\n<path fill=\"none\" stroke=\"black\" d=\"M269.375,-504.411C275.234,-495.868 282.495,-485.278 289.003,-475.787\"/>\n<polygon fill=\"black\" stroke=\"black\" points=\"291.938,-477.697 294.706,-467.47 286.164,-473.738 291.938,-477.697\"/>\n</g>\n<!-- 9th Edition -->\n<g id=\"node18\" class=\"node\"><title>9th Edition</title>\n<ellipse fill=\"#b2dfee\" stroke=\"#b2dfee\" cx=\"537\" cy=\"-90\" rx=\"50.0684\" ry=\"18\"/>\n<text text-anchor=\"middle\" x=\"537\" y=\"-86.3\" font-family=\"Times,serif\" font-size=\"14.00\">9th Edition</text>\n</g>\n<!-- 8th Edition&#45;&gt;9th Edition -->\n<g id=\"edge18\" class=\"edge\"><title>8th Edition&#45;&gt;9th Edition</title>\n<path fill=\"none\" stroke=\"black\" d=\"M477.472,-145.116C487.639,-135.874 500.628,-124.066 511.876,-113.84\"/>\n<polygon fill=\"black\" stroke=\"black\" points=\"514.285,-116.38 519.33,-107.064 509.576,-111.2 514.285,-116.38\"/>\n</g>\n<!-- 3 BSD -->\n<g id=\"node22\" class=\"node\"><title>3 BSD</title>\n<ellipse fill=\"#b2dfee\" stroke=\"#b2dfee\" cx=\"376\" cy=\"-378\" rx=\"34.1708\" ry=\"18\"/>\n<text text-anchor=\"middle\" x=\"376\" y=\"-374.3\" font-family=\"Times,serif\" font-size=\"14.00\">3 BSD</text>\n</g>\n<!-- 32V&#45;&gt;3 BSD -->\n<g id=\"edge23\" class=\"edge\"><title>32V&#45;&gt;3 BSD</title>\n<path fill=\"none\" stroke=\"black\" d=\"M390.401,-432.055C388.285,-424.261 385.723,-414.822 383.35,-406.079\"/>\n<polygon fill=\"black\" stroke=\"black\" points=\"386.686,-405.009 380.689,-396.275 379.931,-406.843 386.686,-405.009\"/>\n</g>\n<!-- V7M&#45;&gt;Ultrix&#45;11 -->\n<g id=\"edge17\" class=\"edge\"><title>V7M&#45;&gt;Ultrix&#45;11</title>\n<path fill=\"none\" stroke=\"black\" d=\"M28.5077,-359.594C28.1643,-329.528 29.6847,-266.259 46,-216 58.1898,-178.45 82.6687,-139.746 99.6796,-115.549\"/>\n<polygon fill=\"black\" stroke=\"black\" points=\"102.596,-117.487 105.572,-107.319 96.9047,-113.412 102.596,-117.487\"/>\n</g>\n<!-- 2.8 BSD -->\n<g id=\"node20\" class=\"node\"><title>2.8 BSD</title>\n<ellipse fill=\"#b2dfee\" stroke=\"#b2dfee\" cx=\"221\" cy=\"-162\" rx=\"41.394\" ry=\"18\"/>\n<text text-anchor=\"middle\" x=\"221\" y=\"-158.3\" font-family=\"Times,serif\" font-size=\"14.00\">2.8 BSD</text>\n</g>\n<!-- 2 BSD&#45;&gt;2.8 BSD -->\n<g id=\"edge20\" class=\"edge\"><title>2 BSD&#45;&gt;2.8 BSD</title>\n<path fill=\"none\" stroke=\"black\" d=\"M112.295,-220.647C132.942,-209.697 163.361,-193.566 186.774,-181.15\"/>\n<polygon fill=\"black\" stroke=\"black\" points=\"188.493,-184.2 195.688,-176.423 185.214,-178.016 188.493,-184.2\"/>\n</g>\n<!-- 2.8 BSD&#45;&gt;Ultrix&#45;11 -->\n<g id=\"edge21\" class=\"edge\"><title>2.8 BSD&#45;&gt;Ultrix&#45;11</title>\n<path fill=\"none\" stroke=\"black\" d=\"M199.658,-146.496C184.705,-136.334 164.515,-122.612 147.952,-111.356\"/>\n<polygon fill=\"black\" stroke=\"black\" points=\"149.907,-108.452 139.669,-105.726 145.972,-114.242 149.907,-108.452\"/>\n</g>\n<!-- 2.9 BSD -->\n<g id=\"node21\" class=\"node\"><title>2.9 BSD</title>\n<ellipse fill=\"#b2dfee\" stroke=\"#b2dfee\" cx=\"221\" cy=\"-90\" rx=\"41.394\" ry=\"18\"/>\n<text text-anchor=\"middle\" x=\"221\" y=\"-86.3\" font-family=\"Times,serif\" font-size=\"14.00\">2.9 BSD</text>\n</g>\n<!-- 2.8 BSD&#45;&gt;2.9 BSD -->\n<g id=\"edge22\" class=\"edge\"><title>2.8 BSD&#45;&gt;2.9 BSD</title>\n<path fill=\"none\" stroke=\"black\" d=\"M221,-143.697C221,-135.983 221,-126.712 221,-118.112\"/>\n<polygon fill=\"black\" stroke=\"black\" points=\"224.5,-118.104 221,-108.104 217.5,-118.104 224.5,-118.104\"/>\n</g>\n<!-- 4 BSD -->\n<g id=\"node23\" class=\"node\"><title>4 BSD</title>\n<ellipse fill=\"#b2dfee\" stroke=\"#b2dfee\" cx=\"372\" cy=\"-306\" rx=\"34.1708\" ry=\"18\"/>\n<text text-anchor=\"middle\" x=\"372\" y=\"-302.3\" font-family=\"Times,serif\" font-size=\"14.00\">4 BSD</text>\n</g>\n<!-- 3 BSD&#45;&gt;4 BSD -->\n<g id=\"edge24\" class=\"edge\"><title>3 BSD&#45;&gt;4 BSD</title>\n<path fill=\"none\" stroke=\"black\" d=\"M375.011,-359.697C374.57,-351.983 374.041,-342.712 373.549,-334.112\"/>\n<polygon fill=\"black\" stroke=\"black\" points=\"377.042,-333.888 372.977,-324.104 370.054,-334.288 377.042,-333.888\"/>\n</g>\n<!-- 4.1 BSD -->\n<g id=\"node24\" class=\"node\"><title>4.1 BSD</title>\n<ellipse fill=\"#b2dfee\" stroke=\"#b2dfee\" cx=\"370\" cy=\"-234\" rx=\"41.394\" ry=\"18\"/>\n<text text-anchor=\"middle\" x=\"370\" y=\"-230.3\" font-family=\"Times,serif\" font-size=\"14.00\">4.1 BSD</text>\n</g>\n<!-- 4 BSD&#45;&gt;4.1 BSD -->\n<g id=\"edge25\" class=\"edge\"><title>4 BSD&#45;&gt;4.1 BSD</title>\n<path fill=\"none\" stroke=\"black\" d=\"M371.506,-287.697C371.285,-279.983 371.02,-270.712 370.775,-262.112\"/>\n<polygon fill=\"black\" stroke=\"black\" points=\"374.273,-262 370.489,-252.104 367.276,-262.2 374.273,-262\"/>\n</g>\n<!-- 4.2 BSD -->\n<g id=\"node25\" class=\"node\"><title>4.2 BSD</title>\n<ellipse fill=\"#b2dfee\" stroke=\"#b2dfee\" cx=\"350\" cy=\"-162\" rx=\"41.394\" ry=\"18\"/>\n<text text-anchor=\"middle\" x=\"350\" y=\"-158.3\" font-family=\"Times,serif\" font-size=\"14.00\">4.2 BSD</text>\n</g>\n<!-- 4.1 BSD&#45;&gt;4.2 BSD -->\n<g id=\"edge26\" class=\"edge\"><title>4.1 BSD&#45;&gt;4.2 BSD</title>\n<path fill=\"none\" stroke=\"black\" d=\"M365.159,-216.055C362.932,-208.261 360.235,-198.822 357.737,-190.079\"/>\n<polygon fill=\"black\" stroke=\"black\" points=\"361.048,-188.929 354.936,-180.275 354.318,-190.852 361.048,-188.929\"/>\n</g>\n<!-- 4.1 BSD&#45;&gt;2.8 BSD -->\n<g id=\"edge27\" class=\"edge\"><title>4.1 BSD&#45;&gt;2.8 BSD</title>\n<path fill=\"none\" stroke=\"black\" d=\"M343.017,-220.324C319.042,-209.06 283.798,-192.502 257.344,-180.075\"/>\n<polygon fill=\"black\" stroke=\"black\" points=\"258.573,-176.785 248.033,-175.7 255.596,-183.12 258.573,-176.785\"/>\n</g>\n<!-- 4.1 BSD&#45;&gt;8th Edition -->\n<g id=\"edge28\" class=\"edge\"><title>4.1 BSD&#45;&gt;8th Edition</title>\n<path fill=\"none\" stroke=\"black\" d=\"M389.529,-217.811C401.859,-208.221 417.993,-195.672 431.712,-185.002\"/>\n<polygon fill=\"black\" stroke=\"black\" points=\"434.142,-187.546 439.886,-178.644 429.844,-182.021 434.142,-187.546\"/>\n</g>\n<!-- 4.3 BSD -->\n<g id=\"node26\" class=\"node\"><title>4.3 BSD</title>\n<ellipse fill=\"#b2dfee\" stroke=\"#b2dfee\" cx=\"427\" cy=\"-90\" rx=\"41.394\" ry=\"18\"/>\n<text text-anchor=\"middle\" x=\"427\" y=\"-86.3\" font-family=\"Times,serif\" font-size=\"14.00\">4.3 BSD</text>\n</g>\n<!-- 4.2 BSD&#45;&gt;4.3 BSD -->\n<g id=\"edge29\" class=\"edge\"><title>4.2 BSD&#45;&gt;4.3 BSD</title>\n<path fill=\"none\" stroke=\"black\" d=\"M367.089,-145.465C377.456,-136.04 390.862,-123.853 402.362,-113.398\"/>\n<polygon fill=\"black\" stroke=\"black\" points=\"404.914,-115.808 409.959,-106.492 400.205,-110.629 404.914,-115.808\"/>\n</g>\n<!-- Ultrix&#45;32 -->\n<g id=\"node27\" class=\"node\"><title>Ultrix&#45;32</title>\n<ellipse fill=\"#b2dfee\" stroke=\"#b2dfee\" cx=\"324\" cy=\"-90\" rx=\"43.319\" ry=\"18\"/>\n<text text-anchor=\"middle\" x=\"324\" y=\"-86.3\" font-family=\"Times,serif\" font-size=\"14.00\">Ultrix&#45;32</text>\n</g>\n<!-- 4.2 BSD&#45;&gt;Ultrix&#45;32 -->\n<g id=\"edge30\" class=\"edge\"><title>4.2 BSD&#45;&gt;Ultrix&#45;32</title>\n<path fill=\"none\" stroke=\"black\" d=\"M343.706,-144.055C340.78,-136.176 337.229,-126.617 333.952,-117.794\"/>\n<polygon fill=\"black\" stroke=\"black\" points=\"337.179,-116.431 330.417,-108.275 330.617,-118.868 337.179,-116.431\"/>\n</g>\n<!-- PWB 1.2&#45;&gt;PWB 2.0 -->\n<g id=\"edge33\" class=\"edge\"><title>PWB 1.2&#45;&gt;PWB 2.0</title>\n<path fill=\"none\" stroke=\"black\" d=\"M653.041,-578.666C635.611,-568.237 611.808,-553.996 592.641,-542.529\"/>\n<polygon fill=\"black\" stroke=\"black\" points=\"594.305,-539.446 583.927,-537.315 590.711,-545.453 594.305,-539.446\"/>\n</g>\n<!-- CB Unix 1 -->\n<g id=\"node30\" class=\"node\"><title>CB Unix 1</title>\n<ellipse fill=\"#b2dfee\" stroke=\"#b2dfee\" cx=\"833\" cy=\"-522\" rx=\"49.0941\" ry=\"18\"/>\n<text text-anchor=\"middle\" x=\"833\" y=\"-518.3\" font-family=\"Times,serif\" font-size=\"14.00\">CB Unix 1</text>\n</g>\n<!-- USG 1.0&#45;&gt;CB Unix 1 -->\n<g id=\"edge34\" class=\"edge\"><title>USG 1.0&#45;&gt;CB Unix 1</title>\n<path fill=\"none\" stroke=\"black\" d=\"M793.323,-576.411C799.67,-567.868 807.536,-557.278 814.587,-547.787\"/>\n<polygon fill=\"black\" stroke=\"black\" points=\"817.612,-549.585 820.765,-539.47 811.992,-545.41 817.612,-549.585\"/>\n</g>\n<!-- USG 2.0 -->\n<g id=\"node31\" class=\"node\"><title>USG 2.0</title>\n<ellipse fill=\"#b2dfee\" stroke=\"#b2dfee\" cx=\"699\" cy=\"-522\" rx=\"42.3701\" ry=\"18\"/>\n<text text-anchor=\"middle\" x=\"699\" y=\"-518.3\" font-family=\"Times,serif\" font-size=\"14.00\">USG 2.0</text>\n</g>\n<!-- USG 1.0&#45;&gt;USG 2.0 -->\n<g id=\"edge35\" class=\"edge\"><title>USG 1.0&#45;&gt;USG 2.0</title>\n<path fill=\"none\" stroke=\"black\" d=\"M762.802,-577.465C751.654,-567.949 737.21,-555.619 724.885,-545.097\"/>\n<polygon fill=\"black\" stroke=\"black\" points=\"727.026,-542.323 717.148,-538.492 722.481,-547.646 727.026,-542.323\"/>\n</g>\n<!-- CB Unix 2 -->\n<g id=\"node32\" class=\"node\"><title>CB Unix 2</title>\n<ellipse fill=\"#b2dfee\" stroke=\"#b2dfee\" cx=\"853\" cy=\"-450\" rx=\"49.0941\" ry=\"18\"/>\n<text text-anchor=\"middle\" x=\"853\" y=\"-446.3\" font-family=\"Times,serif\" font-size=\"14.00\">CB Unix 2</text>\n</g>\n<!-- CB Unix 1&#45;&gt;CB Unix 2 -->\n<g id=\"edge36\" class=\"edge\"><title>CB Unix 1&#45;&gt;CB Unix 2</title>\n<path fill=\"none\" stroke=\"black\" d=\"M837.841,-504.055C840.068,-496.261 842.765,-486.822 845.263,-478.079\"/>\n<polygon fill=\"black\" stroke=\"black\" points=\"848.682,-478.852 848.064,-468.275 841.952,-476.929 848.682,-478.852\"/>\n</g>\n<!-- USG 3.0 -->\n<g id=\"node36\" class=\"node\"><title>USG 3.0</title>\n<ellipse fill=\"#b2dfee\" stroke=\"#b2dfee\" cx=\"616\" cy=\"-450\" rx=\"42.3701\" ry=\"18\"/>\n<text text-anchor=\"middle\" x=\"616\" y=\"-446.3\" font-family=\"Times,serif\" font-size=\"14.00\">USG 3.0</text>\n</g>\n<!-- USG 2.0&#45;&gt;USG 3.0 -->\n<g id=\"edge40\" class=\"edge\"><title>USG 2.0&#45;&gt;USG 3.0</title>\n<path fill=\"none\" stroke=\"black\" d=\"M680.58,-505.465C669.297,-495.949 654.676,-483.619 642.201,-473.097\"/>\n<polygon fill=\"black\" stroke=\"black\" points=\"644.27,-470.263 634.369,-466.492 639.757,-475.614 644.27,-470.263\"/>\n</g>\n<!-- CB Unix 3 -->\n<g id=\"node33\" class=\"node\"><title>CB Unix 3</title>\n<ellipse fill=\"#b2dfee\" stroke=\"#b2dfee\" cx=\"795\" cy=\"-378\" rx=\"49.0941\" ry=\"18\"/>\n<text text-anchor=\"middle\" x=\"795\" y=\"-374.3\" font-family=\"Times,serif\" font-size=\"14.00\">CB Unix 3</text>\n</g>\n<!-- CB Unix 2&#45;&gt;CB Unix 3 -->\n<g id=\"edge37\" class=\"edge\"><title>CB Unix 2&#45;&gt;CB Unix 3</title>\n<path fill=\"none\" stroke=\"black\" d=\"M839.255,-432.411C832.032,-423.693 823.043,-412.845 815.058,-403.208\"/>\n<polygon fill=\"black\" stroke=\"black\" points=\"817.722,-400.937 808.647,-395.47 812.332,-405.403 817.722,-400.937\"/>\n</g>\n<!-- Unix/TS++ -->\n<g id=\"node34\" class=\"node\"><title>Unix/TS++</title>\n<ellipse fill=\"#b2dfee\" stroke=\"#b2dfee\" cx=\"752\" cy=\"-306\" rx=\"51.4931\" ry=\"18\"/>\n<text text-anchor=\"middle\" x=\"752\" y=\"-302.3\" font-family=\"Times,serif\" font-size=\"14.00\">Unix/TS++</text>\n</g>\n<!-- CB Unix 3&#45;&gt;Unix/TS++ -->\n<g id=\"edge38\" class=\"edge\"><title>CB Unix 3&#45;&gt;Unix/TS++</title>\n<path fill=\"none\" stroke=\"black\" d=\"M784.591,-360.055C779.52,-351.801 773.317,-341.701 767.687,-332.538\"/>\n<polygon fill=\"black\" stroke=\"black\" points=\"770.53,-330.478 762.313,-323.789 764.565,-334.142 770.53,-330.478\"/>\n</g>\n<!-- PDP&#45;11 Sys V -->\n<g id=\"node35\" class=\"node\"><title>PDP&#45;11 Sys V</title>\n<ellipse fill=\"#b2dfee\" stroke=\"#b2dfee\" cx=\"884\" cy=\"-306\" rx=\"62.0922\" ry=\"18\"/>\n<text text-anchor=\"middle\" x=\"884\" y=\"-302.3\" font-family=\"Times,serif\" font-size=\"14.00\">PDP&#45;11 Sys V</text>\n</g>\n<!-- CB Unix 3&#45;&gt;PDP&#45;11 Sys V -->\n<g id=\"edge39\" class=\"edge\"><title>CB Unix 3&#45;&gt;PDP&#45;11 Sys V</title>\n<path fill=\"none\" stroke=\"black\" d=\"M814.752,-361.465C826.711,-352.058 842.168,-339.902 855.442,-329.461\"/>\n<polygon fill=\"black\" stroke=\"black\" points=\"857.679,-332.155 863.375,-323.222 853.352,-326.653 857.679,-332.155\"/>\n</g>\n<!-- CB Unix 3&#45;&gt;TS 4.0 -->\n<g id=\"edge46\" class=\"edge\"><title>CB Unix 3&#45;&gt;TS 4.0</title>\n<path fill=\"none\" stroke=\"black\" d=\"M756.649,-366.583C734.229,-358.542 707.231,-345.135 691,-324 677.503,-306.425 673.092,-281.394 671.863,-262.351\"/>\n<polygon fill=\"black\" stroke=\"black\" points=\"675.354,-262.059 671.465,-252.204 668.359,-262.333 675.354,-262.059\"/>\n</g>\n<!-- Unix/TS++&#45;&gt;TS 4.0 -->\n<g id=\"edge45\" class=\"edge\"><title>Unix/TS++&#45;&gt;TS 4.0</title>\n<path fill=\"none\" stroke=\"black\" d=\"M733.847,-289.116C722.804,-279.454 708.558,-266.988 696.522,-256.456\"/>\n<polygon fill=\"black\" stroke=\"black\" points=\"698.818,-253.815 688.987,-249.864 694.208,-259.083 698.818,-253.815\"/>\n</g>\n<!-- USG 3.0&#45;&gt;Unix/TS 3.0 -->\n<g id=\"edge41\" class=\"edge\"><title>USG 3.0&#45;&gt;Unix/TS 3.0</title>\n<path fill=\"none\" stroke=\"black\" d=\"M616,-431.697C616,-423.983 616,-414.712 616,-406.112\"/>\n<polygon fill=\"black\" stroke=\"black\" points=\"619.5,-406.104 616,-396.104 612.5,-406.104 619.5,-406.104\"/>\n</g>\n<!-- Unix/TS 1.0 -->\n<g id=\"node37\" class=\"node\"><title>Unix/TS 1.0</title>\n<ellipse fill=\"#b2dfee\" stroke=\"#b2dfee\" cx=\"731\" cy=\"-450\" rx=\"54.3924\" ry=\"18\"/>\n<text text-anchor=\"middle\" x=\"731\" y=\"-446.3\" font-family=\"Times,serif\" font-size=\"14.00\">Unix/TS 1.0</text>\n</g>\n<!-- Unix/TS 1.0&#45;&gt;Unix/TS 3.0 -->\n<g id=\"edge43\" class=\"edge\"><title>Unix/TS 1.0&#45;&gt;Unix/TS 3.0</title>\n<path fill=\"none\" stroke=\"black\" d=\"M706.047,-433.811C689.621,-423.813 667.911,-410.598 649.924,-399.649\"/>\n<polygon fill=\"black\" stroke=\"black\" points=\"651.266,-396.369 640.905,-394.159 647.627,-402.349 651.266,-396.369\"/>\n</g>\n<!-- System V.0 -->\n<g id=\"node39\" class=\"node\"><title>System V.0</title>\n<ellipse fill=\"#b2dfee\" stroke=\"#b2dfee\" cx=\"672\" cy=\"-162\" rx=\"52.4675\" ry=\"18\"/>\n<text text-anchor=\"middle\" x=\"672\" y=\"-158.3\" font-family=\"Times,serif\" font-size=\"14.00\">System V.0</text>\n</g>\n<!-- TS 4.0&#45;&gt;System V.0 -->\n<g id=\"edge47\" class=\"edge\"><title>TS 4.0&#45;&gt;System V.0</title>\n<path fill=\"none\" stroke=\"black\" d=\"M672,-215.697C672,-207.983 672,-198.712 672,-190.112\"/>\n<polygon fill=\"black\" stroke=\"black\" points=\"675.5,-190.104 672,-180.104 668.5,-190.104 675.5,-190.104\"/>\n</g>\n<!-- System V.2 -->\n<g id=\"node40\" class=\"node\"><title>System V.2</title>\n<ellipse fill=\"#b2dfee\" stroke=\"#b2dfee\" cx=\"672\" cy=\"-90\" rx=\"52.4675\" ry=\"18\"/>\n<text text-anchor=\"middle\" x=\"672\" y=\"-86.3\" font-family=\"Times,serif\" font-size=\"14.00\">System V.2</text>\n</g>\n<!-- System V.0&#45;&gt;System V.2 -->\n<g id=\"edge48\" class=\"edge\"><title>System V.0&#45;&gt;System V.2</title>\n<path fill=\"none\" stroke=\"black\" d=\"M672,-143.697C672,-135.983 672,-126.712 672,-118.112\"/>\n<polygon fill=\"black\" stroke=\"black\" points=\"675.5,-118.104 672,-108.104 668.5,-118.104 675.5,-118.104\"/>\n</g>\n<!-- System V.3 -->\n<g id=\"node41\" class=\"node\"><title>System V.3</title>\n<ellipse fill=\"#b2dfee\" stroke=\"#b2dfee\" cx=\"672\" cy=\"-18\" rx=\"52.4675\" ry=\"18\"/>\n<text text-anchor=\"middle\" x=\"672\" y=\"-14.3\" font-family=\"Times,serif\" font-size=\"14.00\">System V.3</text>\n</g>\n<!-- System V.2&#45;&gt;System V.3 -->\n<g id=\"edge49\" class=\"edge\"><title>System V.2&#45;&gt;System V.3</title>\n<path fill=\"none\" stroke=\"black\" d=\"M672,-71.6966C672,-63.9827 672,-54.7125 672,-46.1124\"/>\n<polygon fill=\"black\" stroke=\"black\" points=\"675.5,-46.1043 672,-36.1043 668.5,-46.1044 675.5,-46.1043\"/>\n</g>\n</g>\n</svg>\n"
                    }, 
                    "metadata": {}, 
                    "execution_count": 39, 
                    "output_type": "execute_result"
                }
            ]
        }, 
        {
            "metadata": {}, 
            "source": "## Exercises\n\nPlease write script to generate the following four graphs.\n\nThere are six figures below, select any four of them, and use GraphViz/DOT to reproduce them:\n\n* As you can't specify the location of labels in DOT, you can use subgraph to put several element together;\n* It is almost certain that your generated graph will be different from what is shown here, however, as long as they have the same topological structure, the implementation is correct.\n\n", 
            "cell_type": "markdown"
        }, 
        {
            "metadata": {}, 
            "source": "![Figure1](https://github.com/tuliplab/mds/raw/master/Jupyter/image/f1.png \"Figure 1\")", 
            "cell_type": "markdown"
        }, 
        {
            "source": "from graphviz import Source\n\nsrc = Source(\n'digraph G {D-> B -> A; B->C; D->F->E; F->F}')\n             \nsrc", 
            "metadata": {}, 
            "execution_count": 48, 
            "cell_type": "code", 
            "outputs": [
                {
                    "data": {
                        "text/plain": "<graphviz.files.Source at 0x7f17602296a0>", 
                        "image/svg+xml": "<?xml version=\"1.0\" encoding=\"UTF-8\" standalone=\"no\"?>\n<!DOCTYPE svg PUBLIC \"-//W3C//DTD SVG 1.1//EN\"\n \"http://www.w3.org/Graphics/SVG/1.1/DTD/svg11.dtd\">\n<!-- Generated by graphviz version 2.30.1 (20150306.0020)\n -->\n<!-- Title: G Pages: 1 -->\n<svg width=\"206pt\" height=\"188pt\"\n viewBox=\"0.00 0.00 206.00 188.00\" xmlns=\"http://www.w3.org/2000/svg\" xmlns:xlink=\"http://www.w3.org/1999/xlink\">\n<g id=\"graph0\" class=\"graph\" transform=\"scale(1 1) rotate(0) translate(4 184)\">\n<title>G</title>\n<polygon fill=\"white\" stroke=\"white\" points=\"-4,5 -4,-184 203,-184 203,5 -4,5\"/>\n<!-- D -->\n<g id=\"node1\" class=\"node\"><title>D</title>\n<ellipse fill=\"none\" stroke=\"black\" cx=\"135\" cy=\"-162\" rx=\"27\" ry=\"18\"/>\n<text text-anchor=\"middle\" x=\"135\" y=\"-158.3\" font-family=\"Times,serif\" font-size=\"14.00\">D</text>\n</g>\n<!-- B -->\n<g id=\"node2\" class=\"node\"><title>B</title>\n<ellipse fill=\"none\" stroke=\"black\" cx=\"99\" cy=\"-90\" rx=\"27\" ry=\"18\"/>\n<text text-anchor=\"middle\" x=\"99\" y=\"-86.3\" font-family=\"Times,serif\" font-size=\"14.00\">B</text>\n</g>\n<!-- D&#45;&gt;B -->\n<g id=\"edge1\" class=\"edge\"><title>D&#45;&gt;B</title>\n<path fill=\"none\" stroke=\"black\" d=\"M126.65,-144.765C122.288,-136.283 116.853,-125.714 111.959,-116.197\"/>\n<polygon fill=\"black\" stroke=\"black\" points=\"114.99,-114.439 107.304,-107.147 108.765,-117.641 114.99,-114.439\"/>\n</g>\n<!-- F -->\n<g id=\"node5\" class=\"node\"><title>F</title>\n<ellipse fill=\"none\" stroke=\"black\" cx=\"171\" cy=\"-90\" rx=\"27\" ry=\"18\"/>\n<text text-anchor=\"middle\" x=\"171\" y=\"-86.3\" font-family=\"Times,serif\" font-size=\"14.00\">F</text>\n</g>\n<!-- D&#45;&gt;F -->\n<g id=\"edge4\" class=\"edge\"><title>D&#45;&gt;F</title>\n<path fill=\"none\" stroke=\"black\" d=\"M143.35,-144.765C147.712,-136.283 153.147,-125.714 158.041,-116.197\"/>\n<polygon fill=\"black\" stroke=\"black\" points=\"161.235,-117.641 162.696,-107.147 155.01,-114.439 161.235,-117.641\"/>\n</g>\n<!-- A -->\n<g id=\"node3\" class=\"node\"><title>A</title>\n<ellipse fill=\"none\" stroke=\"black\" cx=\"27\" cy=\"-18\" rx=\"27\" ry=\"18\"/>\n<text text-anchor=\"middle\" x=\"27\" y=\"-14.3\" font-family=\"Times,serif\" font-size=\"14.00\">A</text>\n</g>\n<!-- B&#45;&gt;A -->\n<g id=\"edge2\" class=\"edge\"><title>B&#45;&gt;A</title>\n<path fill=\"none\" stroke=\"black\" d=\"M84.4297,-74.8345C74.2501,-64.9376 60.4761,-51.5462 48.9694,-40.3591\"/>\n<polygon fill=\"black\" stroke=\"black\" points=\"51.4055,-37.8461 41.7957,-33.3847 46.5259,-42.865 51.4055,-37.8461\"/>\n</g>\n<!-- C -->\n<g id=\"node4\" class=\"node\"><title>C</title>\n<ellipse fill=\"none\" stroke=\"black\" cx=\"99\" cy=\"-18\" rx=\"27\" ry=\"18\"/>\n<text text-anchor=\"middle\" x=\"99\" y=\"-14.3\" font-family=\"Times,serif\" font-size=\"14.00\">C</text>\n</g>\n<!-- B&#45;&gt;C -->\n<g id=\"edge3\" class=\"edge\"><title>B&#45;&gt;C</title>\n<path fill=\"none\" stroke=\"black\" d=\"M99,-71.6966C99,-63.9827 99,-54.7125 99,-46.1124\"/>\n<polygon fill=\"black\" stroke=\"black\" points=\"102.5,-46.1043 99,-36.1043 95.5001,-46.1044 102.5,-46.1043\"/>\n</g>\n<!-- E -->\n<g id=\"node6\" class=\"node\"><title>E</title>\n<ellipse fill=\"none\" stroke=\"black\" cx=\"171\" cy=\"-18\" rx=\"27\" ry=\"18\"/>\n<text text-anchor=\"middle\" x=\"171\" y=\"-14.3\" font-family=\"Times,serif\" font-size=\"14.00\">E</text>\n</g>\n<!-- F&#45;&gt;E -->\n<g id=\"edge5\" class=\"edge\"><title>F&#45;&gt;E</title>\n<path fill=\"none\" stroke=\"black\" d=\"M171,-71.6966C171,-63.9827 171,-54.7125 171,-46.1124\"/>\n<polygon fill=\"black\" stroke=\"black\" points=\"174.5,-46.1043 171,-36.1043 167.5,-46.1044 174.5,-46.1043\"/>\n</g>\n</g>\n</svg>\n"
                    }, 
                    "metadata": {}, 
                    "execution_count": 48, 
                    "output_type": "execute_result"
                }
            ]
        }, 
        {
            "metadata": {}, 
            "source": "![Figure 2](https://github.com/tuliplab/mds/raw/master/Jupyter/image/f2.png \"Figure 2\")", 
            "cell_type": "markdown"
        }, 
        {
            "source": "", 
            "metadata": {}, 
            "execution_count": null, 
            "cell_type": "code", 
            "outputs": []
        }, 
        {
            "metadata": {}, 
            "source": "![Figure 3](https://github.com/tuliplab/mds/raw/master/Jupyter/image/f3.png \"Figure 3\")", 
            "cell_type": "markdown"
        }, 
        {
            "source": "", 
            "metadata": {}, 
            "execution_count": null, 
            "cell_type": "code", 
            "outputs": []
        }, 
        {
            "metadata": {}, 
            "source": "![Figure 4](https://github.com/tuliplab/mds/raw/master/Jupyter/image/f4.png \"Figure 4\")", 
            "cell_type": "markdown"
        }, 
        {
            "source": "", 
            "metadata": {}, 
            "execution_count": null, 
            "cell_type": "code", 
            "outputs": []
        }, 
        {
            "metadata": {}, 
            "source": "![Figure 5](https://github.com/tuliplab/mds/raw/master/Jupyter/image/f5.png \"Figure 5\")", 
            "cell_type": "markdown"
        }, 
        {
            "source": "", 
            "metadata": {}, 
            "execution_count": null, 
            "cell_type": "code", 
            "outputs": []
        }, 
        {
            "metadata": {}, 
            "source": "![Figure 6](https://github.com/tuliplab/mds/raw/master/Jupyter/image/f6.png \"Figure 6\")", 
            "cell_type": "markdown"
        }, 
        {
            "source": "", 
            "metadata": {}, 
            "execution_count": null, 
            "cell_type": "code", 
            "outputs": []
        }
    ], 
    "nbformat_minor": 1
}